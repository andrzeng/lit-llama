{
 "cells": [
  {
   "cell_type": "code",
   "execution_count": 1,
   "metadata": {
    "tags": []
   },
   "outputs": [
    {
     "name": "stderr",
     "output_type": "stream",
     "text": [
      "/home/andrew/.local/lib/python3.10/site-packages/tqdm/auto.py:21: TqdmWarning: IProgress not found. Please update jupyter and ipywidgets. See https://ipywidgets.readthedocs.io/en/stable/user_install.html\n",
      "  from .autonotebook import tqdm as notebook_tqdm\n",
      "/usr/lib/python3/dist-packages/pkg_resources/__init__.py:116: PkgResourcesDeprecationWarning: 1.1build1 is an invalid version and will not be supported in a future release\n",
      "  warnings.warn(\n",
      "/usr/lib/python3/dist-packages/pkg_resources/__init__.py:116: PkgResourcesDeprecationWarning: 0.1.43ubuntu1 is an invalid version and will not be supported in a future release\n",
      "  warnings.warn(\n"
     ]
    }
   ],
   "source": [
    "\n",
    "from pathlib import Path\n",
    "import matplotlib.pyplot as plt\n",
    "import lightning as L\n",
    "import torch\n",
    "import torch.nn as nn\n",
    "from lit_llama import model\n",
    "import random\n",
    "from lit_llama import LLaMA, Tokenizer\n",
    "from lit_llama.utils import EmptyInitOnDevice, lazy_load, llama_model_lookup"
   ]
  },
  {
   "cell_type": "code",
   "execution_count": 2,
   "metadata": {},
   "outputs": [
    {
     "data": {
      "text/plain": [
       "tensor([1., 2., 3., 1., 1., 1., 1., 1., 1., 1., 1., 1., 1.])"
      ]
     },
     "execution_count": 2,
     "metadata": {},
     "output_type": "execute_result"
    }
   ],
   "source": [
    "a = torch.Tensor([1,2,3])\n",
    "b = torch.ones(10)\n",
    "\n",
    "torch.cat([a,b])"
   ]
  },
  {
   "cell_type": "code",
   "execution_count": 2,
   "metadata": {
    "tags": []
   },
   "outputs": [
    {
     "name": "stderr",
     "output_type": "stream",
     "text": [
      "/usr/lib/python3/dist-packages/pkg_resources/__init__.py:116: PkgResourcesDeprecationWarning: 1.1build1 is an invalid version and will not be supported in a future release\n",
      "  warnings.warn(\n",
      "/usr/lib/python3/dist-packages/pkg_resources/__init__.py:116: PkgResourcesDeprecationWarning: 0.1.43ubuntu1 is an invalid version and will not be supported in a future release\n",
      "  warnings.warn(\n"
     ]
    }
   ],
   "source": [
    "fabric = L.Fabric(devices=1)\n",
    "tokenizer_path: Path = Path(\"checkpoints/lit-llama/tokenizer.model\")\n",
    "tokenizer = Tokenizer(tokenizer_path)"
   ]
  },
  {
   "cell_type": "code",
   "execution_count": 3,
   "metadata": {
    "tags": []
   },
   "outputs": [],
   "source": [
    "import json\n",
    "with open('datasets/alpaca_data_cleaned.json') as f:\n",
    "    alpaca_json = json.load(f)\n",
    "\n",
    "# Create tokenized j\n",
    "alpaca_json_tokens = []\n",
    "\n",
    "for index, item in enumerate(alpaca_json):\n",
    "    alpaca_json_tokens.append(\n",
    "        {\n",
    "            'index': index,\n",
    "            'instruction': tokenizer.encode(item['instruction'], bos=True, eos=False, device=fabric.device),\n",
    "            'input': tokenizer.encode(item['input'], bos=False, eos=False, device=fabric.device),\n",
    "            'output':tokenizer.encode(item['output'], bos=False, eos=True, device=fabric.device)\n",
    "        }\n",
    "    )"
   ]
  },
  {
   "cell_type": "code",
   "execution_count": 4,
   "metadata": {},
   "outputs": [
    {
     "data": {
      "text/plain": [
       "51760"
      ]
     },
     "execution_count": 4,
     "metadata": {},
     "output_type": "execute_result"
    }
   ],
   "source": [
    "len(alpaca_json_tokens)"
   ]
  },
  {
   "cell_type": "code",
   "execution_count": 5,
   "metadata": {},
   "outputs": [],
   "source": [
    "prefix_tokens = nn.Embedding(51760, 4096)"
   ]
  },
  {
   "cell_type": "code",
   "execution_count": 6,
   "metadata": {
    "tags": []
   },
   "outputs": [],
   "source": [
    "def get_batch(dataset, batch_size=10):\n",
    "    batch_indices = random.sample(range(len(dataset)), k=batch_size)\n",
    "    \n",
    "    # IST tokens\n",
    "    IST_tokens = []\n",
    "    for index in batch_indices:\n",
    "        #llama_input = torch.cat([alpaca_json_tokens[index]['instruction'], alpaca_json_tokens[index]['input']]).unsqueeze(0)\n",
    "        IST_tokens.append(prefix_tokens(torch.LongTensor([index])))\n",
    "\n",
    "    # get shortest\n",
    "    shortest_output_len = 1000\n",
    "    for item in batch_indices:\n",
    "        if(len(alpaca_json_tokens[item]['output']) < shortest_output_len):\n",
    "            shortest_output_len = len(alpaca_json_tokens[item]['output'])\n",
    "\n",
    "\n",
    "    length = random.randint(0,shortest_output_len-1)\n",
    "    inputs = []\n",
    "    targets = []\n",
    "\n",
    "    for item in batch_indices:\n",
    "        inputs.append(alpaca_json_tokens[item]['output'][:length])\n",
    "        targets.append(alpaca_json_tokens[item]['output'][:length+1])\n",
    "    \n",
    "    return torch.stack(inputs), torch.stack(targets), torch.stack(IST_tokens)\n"
   ]
  },
  {
   "cell_type": "code",
   "execution_count": 7,
   "metadata": {},
   "outputs": [
    {
     "name": "stderr",
     "output_type": "stream",
     "text": [
      "Downloading builder script: 100%|██████████| 5.27k/5.27k [00:00<00:00, 1.19MB/s]\n",
      "Downloading metadata: 100%|██████████| 2.36k/2.36k [00:00<00:00, 346kB/s]\n",
      "Downloading readme: 100%|██████████| 7.67k/7.67k [00:00<00:00, 1.49MB/s]\n"
     ]
    },
    {
     "name": "stdout",
     "output_type": "stream",
     "text": [
      "Downloading and preparing dataset squad/plain_text to /home/andrew/.cache/huggingface/datasets/squad/plain_text/1.0.0/d6ec3ceb99ca480ce37cdd35555d6cb2511d223b9150cce08a837ef62ffea453...\n"
     ]
    },
    {
     "name": "stderr",
     "output_type": "stream",
     "text": [
      "Downloading data: 30.3MB [00:01, 28.3MB/s]/2 [00:00<?, ?it/s]\n",
      "Downloading data: 4.85MB [00:00, 29.6MB/s]/2 [00:02<00:02,  2.20s/it]\n",
      "Downloading data files: 100%|██████████| 2/2 [00:02<00:00,  1.41s/it]\n",
      "Extracting data files: 100%|██████████| 2/2 [00:00<00:00, 2341.22it/s]\n",
      "                                                                                           \r"
     ]
    },
    {
     "name": "stdout",
     "output_type": "stream",
     "text": [
      "Dataset squad downloaded and prepared to /home/andrew/.cache/huggingface/datasets/squad/plain_text/1.0.0/d6ec3ceb99ca480ce37cdd35555d6cb2511d223b9150cce08a837ef62ffea453. Subsequent calls will reuse this data.\n"
     ]
    }
   ],
   "source": [
    "from datasets import load_dataset\n",
    "dataset = load_dataset('squad', split='train')\n"
   ]
  },
  {
   "cell_type": "code",
   "execution_count": 8,
   "metadata": {
    "tags": []
   },
   "outputs": [],
   "source": [
    "checkpoint_path: Path = Path(\"checkpoints/lit-llama/7B/lit-llama.pth\")\n",
    "tokenizer_path: Path = Path(\"checkpoints/lit-llama/tokenizer.model\")\n",
    "\n",
    "def load_LLaMA(checkpoint_path):\n",
    "    with lazy_load(checkpoint_path) as checkpoint:\n",
    "        name = llama_model_lookup(checkpoint)\n",
    "\n",
    "        with EmptyInitOnDevice(\n",
    "                device=fabric.device, dtype=dtype, quantization_mode=None # We won't quantize the weights\n",
    "        ):\n",
    "            model = LLaMA.from_name(name)\n",
    "\n",
    "        model.load_state_dict(checkpoint)\n",
    "    return model"
   ]
  },
  {
   "cell_type": "code",
   "execution_count": 9,
   "metadata": {
    "tags": []
   },
   "outputs": [
    {
     "name": "stdout",
     "output_type": "stream",
     "text": [
      "Loading models...\n",
      "Finished loading the first model\n",
      "Finished loading models\n"
     ]
    }
   ],
   "source": [
    "\n",
    "dtype = torch.bfloat16 if fabric.device.type == \"cuda\" and torch.cuda.is_bf16_supported() else torch.float32\n",
    "\n",
    "LLaMA_config = model.LLaMAConfig.from_name('7B')\n",
    "print('Loading models...')\n",
    "# Load the LLaMa model and the IST generator (also a LLaMA model)\n",
    "LLamaModel = load_LLaMA(checkpoint_path).to(fabric.device)\n",
    "#LLamaModel = LLaMA(LLaMA_config)\n",
    "print('Finished loading the first model')\n",
    "print('Finished loading models')\n",
    "tokenizer = Tokenizer(tokenizer_path)\n",
    "\n",
    "IST_schemes = ['vanilla', 'last 4', '2nd to last', 'all layers']\n",
    "scheme_losses = {}\n",
    "\n",
    "#IST_generator = model.Block(LLaMA_config)\n",
    "\n",
    "loss_fn = nn.CrossEntropyLoss()\n",
    "optimizer = torch.optim.Adam(prefix_tokens.parameters(), lr=1e-4)\n",
    "#IST_generator = IST_generator.to(fabric.device)"
   ]
  },
  {
   "cell_type": "code",
   "execution_count": 10,
   "metadata": {},
   "outputs": [],
   "source": [
    "for param in LLamaModel.parameters():\n",
    "    param.requires_grad=False"
   ]
  },
  {
   "cell_type": "code",
   "execution_count": 11,
   "metadata": {},
   "outputs": [],
   "source": [
    "losses = []"
   ]
  },
  {
   "cell_type": "code",
   "execution_count": 12,
   "metadata": {},
   "outputs": [],
   "source": [
    "optimizer = torch.optim.Adam(prefix_tokens.parameters(), lr=1e-3)"
   ]
  },
  {
   "cell_type": "code",
   "execution_count": 17,
   "metadata": {
    "tags": []
   },
   "outputs": [
    {
     "name": "stdout",
     "output_type": "stream",
     "text": [
      "epoch0, loss: 10.6875\n",
      "epoch1, loss: 9.0625\n",
      "epoch2, loss: 8.0625\n",
      "epoch3, loss: 6.8125\n",
      "epoch4, loss: 7.40625\n",
      "epoch5, loss: 9.25\n",
      "epoch6, loss: 7.28125\n",
      "epoch7, loss: 7.0\n",
      "epoch8, loss: 9.625\n",
      "epoch9, loss: 9.3125\n",
      "epoch10, loss: 9.0625\n",
      "epoch11, loss: 7.78125\n",
      "epoch12, loss: 9.9375\n",
      "epoch13, loss: 8.4375\n",
      "epoch14, loss: 10.1875\n",
      "epoch15, loss: 8.1875\n",
      "epoch16, loss: 8.0625\n",
      "epoch17, loss: 9.1875\n",
      "epoch18, loss: 7.03125\n",
      "epoch19, loss: 8.125\n",
      "epoch20, loss: 7.8125\n",
      "epoch21, loss: 7.09375\n",
      "epoch22, loss: 8.4375\n",
      "epoch23, loss: 9.8125\n",
      "epoch24, loss: 9.75\n",
      "epoch25, loss: 9.375\n",
      "epoch26, loss: 9.0\n",
      "epoch27, loss: 8.125\n",
      "epoch28, loss: 7.28125\n",
      "epoch29, loss: 10.75\n",
      "epoch30, loss: 9.5625\n",
      "epoch31, loss: 7.65625\n",
      "epoch32, loss: 8.5625\n",
      "epoch33, loss: 9.375\n",
      "epoch34, loss: 9.9375\n",
      "epoch35, loss: 7.21875\n",
      "epoch36, loss: 8.375\n",
      "epoch37, loss: 6.5625\n",
      "epoch38, loss: 7.75\n",
      "epoch39, loss: 10.9375\n",
      "epoch40, loss: 7.59375\n",
      "epoch41, loss: 7.6875\n",
      "epoch42, loss: 7.96875\n",
      "epoch43, loss: 6.46875\n",
      "epoch44, loss: 8.6875\n",
      "epoch45, loss: 7.53125\n",
      "epoch46, loss: 9.4375\n",
      "epoch47, loss: 7.375\n",
      "epoch48, loss: 8.5625\n",
      "epoch49, loss: 8.1875\n",
      "epoch50, loss: 8.6875\n",
      "epoch51, loss: 8.8125\n",
      "epoch52, loss: 9.75\n",
      "epoch53, loss: 7.625\n",
      "epoch54, loss: 7.84375\n",
      "epoch55, loss: 8.875\n",
      "epoch56, loss: 7.09375\n",
      "epoch57, loss: 6.21875\n",
      "epoch58, loss: 8.25\n",
      "epoch59, loss: 8.875\n",
      "epoch60, loss: 9.4375\n",
      "epoch61, loss: 9.0625\n",
      "epoch62, loss: 7.84375\n",
      "epoch63, loss: 9.25\n",
      "epoch64, loss: 9.8125\n",
      "epoch65, loss: 10.25\n",
      "epoch66, loss: 7.59375\n",
      "epoch67, loss: 8.875\n",
      "epoch68, loss: 8.5625\n",
      "epoch69, loss: 8.25\n",
      "epoch70, loss: 9.5625\n",
      "epoch71, loss: 8.0625\n",
      "epoch72, loss: 9.9375\n",
      "epoch73, loss: 8.5625\n",
      "epoch74, loss: 8.9375\n",
      "epoch75, loss: 9.875\n",
      "epoch76, loss: 9.5625\n",
      "epoch77, loss: 7.3125\n",
      "epoch78, loss: 10.0\n",
      "epoch79, loss: 7.5\n",
      "epoch80, loss: 7.6875\n",
      "epoch81, loss: 8.25\n",
      "epoch82, loss: 8.625\n",
      "epoch83, loss: 8.9375\n",
      "epoch84, loss: 6.75\n",
      "epoch85, loss: 8.9375\n",
      "epoch86, loss: 7.0\n",
      "epoch87, loss: 9.5625\n",
      "epoch88, loss: 8.1875\n",
      "epoch89, loss: 9.1875\n",
      "epoch90, loss: 6.875\n",
      "epoch91, loss: 7.15625\n",
      "epoch92, loss: 8.125\n",
      "epoch93, loss: 8.4375\n",
      "epoch94, loss: 8.25\n",
      "epoch95, loss: 9.125\n",
      "epoch96, loss: 8.4375\n",
      "epoch97, loss: 5.96875\n",
      "epoch98, loss: 8.0625\n",
      "epoch99, loss: 7.625\n",
      "epoch100, loss: 8.1875\n",
      "epoch101, loss: 7.3125\n",
      "epoch102, loss: 7.125\n",
      "epoch103, loss: 7.71875\n",
      "epoch104, loss: 9.1875\n",
      "epoch105, loss: 9.5625\n",
      "epoch106, loss: 9.5625\n",
      "epoch107, loss: 7.1875\n",
      "epoch108, loss: 9.625\n",
      "epoch109, loss: 7.53125\n",
      "epoch110, loss: 8.1875\n",
      "epoch111, loss: 8.75\n",
      "epoch112, loss: 8.0625\n",
      "epoch113, loss: 8.4375\n",
      "epoch114, loss: 6.65625\n",
      "epoch115, loss: 9.625\n",
      "epoch116, loss: 10.375\n",
      "epoch117, loss: 8.3125\n",
      "epoch118, loss: 6.8125\n",
      "epoch119, loss: 10.4375\n",
      "epoch120, loss: 8.375\n",
      "epoch121, loss: 7.96875\n",
      "epoch122, loss: 6.875\n",
      "epoch123, loss: 7.75\n",
      "epoch124, loss: 7.875\n",
      "epoch125, loss: 6.46875\n",
      "epoch126, loss: 9.0\n",
      "epoch127, loss: 9.125\n",
      "epoch128, loss: 7.84375\n",
      "epoch129, loss: 7.78125\n",
      "epoch130, loss: 8.0625\n",
      "epoch131, loss: 9.5\n",
      "epoch132, loss: 9.5\n",
      "epoch133, loss: 9.1875\n",
      "epoch134, loss: 8.8125\n",
      "epoch135, loss: 6.8125\n",
      "epoch136, loss: 7.1875\n",
      "epoch137, loss: 10.0\n",
      "epoch138, loss: 9.0625\n",
      "epoch139, loss: 7.6875\n",
      "epoch140, loss: 7.1875\n",
      "epoch141, loss: 8.5625\n",
      "epoch142, loss: 7.09375\n",
      "epoch143, loss: 8.625\n",
      "epoch144, loss: 6.78125\n"
     ]
    },
    {
     "ename": "KeyboardInterrupt",
     "evalue": "",
     "output_type": "error",
     "traceback": [
      "\u001b[0;31m---------------------------------------------------------------------------\u001b[0m",
      "\u001b[0;31mKeyboardInterrupt\u001b[0m                         Traceback (most recent call last)",
      "Cell \u001b[0;32mIn[17], line 12\u001b[0m\n\u001b[1;32m     10\u001b[0m loss \u001b[39m=\u001b[39m loss_fn(predicted_logits\u001b[39m.\u001b[39mpermute(\u001b[39m0\u001b[39m,\u001b[39m2\u001b[39m,\u001b[39m1\u001b[39m)\u001b[39m.\u001b[39mto(fabric\u001b[39m.\u001b[39mdevice), targets\u001b[39m.\u001b[39mtype(torch\u001b[39m.\u001b[39mLongTensor)\u001b[39m.\u001b[39mto(fabric\u001b[39m.\u001b[39mdevice))\n\u001b[1;32m     11\u001b[0m optimizer\u001b[39m.\u001b[39mzero_grad()\n\u001b[0;32m---> 12\u001b[0m loss\u001b[39m.\u001b[39;49mbackward()\n\u001b[1;32m     13\u001b[0m \u001b[39mprint\u001b[39m(\u001b[39mf\u001b[39m\u001b[39m'\u001b[39m\u001b[39mepoch\u001b[39m\u001b[39m{\u001b[39;00mepoch\u001b[39m}\u001b[39;00m\u001b[39m, loss: \u001b[39m\u001b[39m{\u001b[39;00mloss\u001b[39m.\u001b[39mitem()\u001b[39m}\u001b[39;00m\u001b[39m'\u001b[39m)\n\u001b[1;32m     14\u001b[0m losses\u001b[39m.\u001b[39mappend(loss\u001b[39m.\u001b[39mitem())\n",
      "File \u001b[0;32m~/.local/lib/python3.10/site-packages/torch/_tensor.py:487\u001b[0m, in \u001b[0;36mTensor.backward\u001b[0;34m(self, gradient, retain_graph, create_graph, inputs)\u001b[0m\n\u001b[1;32m    477\u001b[0m \u001b[39mif\u001b[39;00m has_torch_function_unary(\u001b[39mself\u001b[39m):\n\u001b[1;32m    478\u001b[0m     \u001b[39mreturn\u001b[39;00m handle_torch_function(\n\u001b[1;32m    479\u001b[0m         Tensor\u001b[39m.\u001b[39mbackward,\n\u001b[1;32m    480\u001b[0m         (\u001b[39mself\u001b[39m,),\n\u001b[0;32m   (...)\u001b[0m\n\u001b[1;32m    485\u001b[0m         inputs\u001b[39m=\u001b[39minputs,\n\u001b[1;32m    486\u001b[0m     )\n\u001b[0;32m--> 487\u001b[0m torch\u001b[39m.\u001b[39;49mautograd\u001b[39m.\u001b[39;49mbackward(\n\u001b[1;32m    488\u001b[0m     \u001b[39mself\u001b[39;49m, gradient, retain_graph, create_graph, inputs\u001b[39m=\u001b[39;49minputs\n\u001b[1;32m    489\u001b[0m )\n",
      "File \u001b[0;32m~/.local/lib/python3.10/site-packages/torch/autograd/__init__.py:200\u001b[0m, in \u001b[0;36mbackward\u001b[0;34m(tensors, grad_tensors, retain_graph, create_graph, grad_variables, inputs)\u001b[0m\n\u001b[1;32m    195\u001b[0m     retain_graph \u001b[39m=\u001b[39m create_graph\n\u001b[1;32m    197\u001b[0m \u001b[39m# The reason we repeat same the comment below is that\u001b[39;00m\n\u001b[1;32m    198\u001b[0m \u001b[39m# some Python versions print out the first line of a multi-line function\u001b[39;00m\n\u001b[1;32m    199\u001b[0m \u001b[39m# calls in the traceback and some print out the last line\u001b[39;00m\n\u001b[0;32m--> 200\u001b[0m Variable\u001b[39m.\u001b[39;49m_execution_engine\u001b[39m.\u001b[39;49mrun_backward(  \u001b[39m# Calls into the C++ engine to run the backward pass\u001b[39;49;00m\n\u001b[1;32m    201\u001b[0m     tensors, grad_tensors_, retain_graph, create_graph, inputs,\n\u001b[1;32m    202\u001b[0m     allow_unreachable\u001b[39m=\u001b[39;49m\u001b[39mTrue\u001b[39;49;00m, accumulate_grad\u001b[39m=\u001b[39;49m\u001b[39mTrue\u001b[39;49;00m)\n",
      "\u001b[0;31mKeyboardInterrupt\u001b[0m: "
     ]
    }
   ],
   "source": [
    "# Training loop\n",
    "LLamaModel.train()\n",
    "for epoch in range(1000):\n",
    "    inputs, targets, IST_tokens = get_batch(alpaca_json_tokens,32)\n",
    "    \n",
    "    inputs = inputs.to(fabric.device)\n",
    "    targets = targets.to(fabric.device)\n",
    "    IST_tokens = IST_tokens.to(fabric.device)\n",
    "    predicted_logits = LLamaModel(inputs, IST_tokens.type(torch.bfloat16))[0]\n",
    "    loss = loss_fn(predicted_logits.permute(0,2,1).to(fabric.device), targets.type(torch.LongTensor).to(fabric.device))\n",
    "    optimizer.zero_grad()\n",
    "    loss.backward()\n",
    "    print(f'epoch{epoch}, loss: {loss.item()}')\n",
    "    losses.append(loss.item())\n",
    "    optimizer.step()\n",
    "    "
   ]
  },
  {
   "cell_type": "code",
   "execution_count": 18,
   "metadata": {},
   "outputs": [
    {
     "data": {
      "text/plain": [
       "Text(0, 0.5, 'loss')"
      ]
     },
     "execution_count": 18,
     "metadata": {},
     "output_type": "execute_result"
    },
    {
     "data": {
      "image/png": "[encoded data removed]",
      "text/plain": [
       "<Figure size 640x480 with 1 Axes>"
      ]
     },
     "metadata": {},
     "output_type": "display_data"
    }
   ],
   "source": [
    "plt.plot(losses)\n",
    "plt.xlabel('batch')\n",
    "plt.ylabel('loss')"
   ]
  },
  {
   "cell_type": "code",
   "execution_count": 19,
   "metadata": {},
   "outputs": [],
   "source": [
    "torch.save(prefix_tokens.state_dict(), 'prefix.pt')"
   ]
  },
  {
   "cell_type": "code",
   "execution_count": 20,
   "metadata": {},
   "outputs": [],
   "source": [
    "torch.save(losses, 'prefix_losses.pt')"
   ]
  },
  {
   "cell_type": "code",
   "execution_count": 15,
   "metadata": {},
   "outputs": [],
   "source": [
    "def get_IST(string):\n",
    "    tokens = tokenizer.encode(string).unsqueeze(0).type(torch.LongTensor).to(fabric.device)\n",
    "    x = LLamaModel(tokens)[1]\n",
    "    x = IST_generator(x)\n",
    "    return x[:,-1,:]"
   ]
  },
  {
   "cell_type": "code",
   "execution_count": 16,
   "metadata": {},
   "outputs": [],
   "source": [
    "import generate\n",
    "out = generate.generate(model=LLamaModel, \n",
    "                  idx=tokenizer.encode('').type(torch.LongTensor).to(fabric.device), \n",
    "                  max_new_tokens=200, \n",
    "                  max_seq_length=400,top_k=1, internal_state_tokens=get_IST('What are the three primary colors?').type(torch.bfloat16))[0]\n",
    "\n",
    "print(tokenizer.decode(out))\n"
   ]
  }
 ],
 "metadata": {
  "kernelspec": {
   "display_name": "Python 3 (ipykernel)",
   "language": "python",
   "name": "python3"
  },
  "language_info": {
   "codemirror_mode": {
    "name": "ipython",
    "version": 3
   },
   "file_extension": ".py",
   "mimetype": "text/x-python",
   "name": "python",
   "nbconvert_exporter": "python",
   "pygments_lexer": "ipython3",
   "version": "3.10.6"
  }
 },
 "nbformat": 4,
 "nbformat_minor": 4
}

{
 "cells": [
  {
   "cell_type": "code",
   "execution_count": 1,
   "metadata": {
    "tags": []
   },
   "outputs": [
    {
     "name": "stderr",
     "output_type": "stream",
     "text": [
      "/home/andrew/.local/lib/python3.10/site-packages/tqdm/auto.py:21: TqdmWarning: IProgress not found. Please update jupyter and ipywidgets. See https://ipywidgets.readthedocs.io/en/stable/user_install.html\n",
      "  from .autonotebook import tqdm as notebook_tqdm\n",
      "/usr/lib/python3/dist-packages/pkg_resources/__init__.py:116: PkgResourcesDeprecationWarning: 1.1build1 is an invalid version and will not be supported in a future release\n",
      "  warnings.warn(\n",
      "/usr/lib/python3/dist-packages/pkg_resources/__init__.py:116: PkgResourcesDeprecationWarning: 0.1.43ubuntu1 is an invalid version and will not be supported in a future release\n",
      "  warnings.warn(\n"
     ]
    }
   ],
   "source": [
    "from pathlib import Path\n",
    "import matplotlib.pyplot as plt\n",
    "import lightning as L\n",
    "import torch\n",
    "import torch.nn as nn\n",
    "from lit_llama import model\n",
    "import random\n",
    "from lit_llama import LLaMA, Tokenizer\n",
    "from lit_llama.utils import EmptyInitOnDevice, lazy_load, llama_model_lookup\n",
    "\n",
    "from datasets import load_dataset\n",
    "from transformers import AutoTokenizer\n",
    "\n"
   ]
  },
  {
   "cell_type": "code",
   "execution_count": 2,
   "metadata": {},
   "outputs": [],
   "source": [
    "import wandb"
   ]
  },
  {
   "cell_type": "code",
   "execution_count": 3,
   "metadata": {
    "tags": []
   },
   "outputs": [
    {
     "name": "stderr",
     "output_type": "stream",
     "text": [
      "/usr/lib/python3/dist-packages/pkg_resources/__init__.py:116: PkgResourcesDeprecationWarning: 1.1build1 is an invalid version and will not be supported in a future release\n",
      "  warnings.warn(\n",
      "/usr/lib/python3/dist-packages/pkg_resources/__init__.py:116: PkgResourcesDeprecationWarning: 0.1.43ubuntu1 is an invalid version and will not be supported in a future release\n",
      "  warnings.warn(\n"
     ]
    }
   ],
   "source": [
    "fabric = L.Fabric(devices=1)\n",
    "tokenizer_path: Path = Path(\"checkpoints/lit-llama/tokenizer.model\")\n",
    "tokenizer = Tokenizer(tokenizer_path)"
   ]
  },
  {
   "cell_type": "code",
   "execution_count": 4,
   "metadata": {},
   "outputs": [],
   "source": [
    "import json\n",
    "with open('datasets/alpaca_data_cleaned.json') as f:\n",
    "    alpaca_json = json.load(f)\n",
    "\n"
   ]
  },
  {
   "cell_type": "code",
   "execution_count": 5,
   "metadata": {},
   "outputs": [
    {
     "name": "stdout",
     "output_type": "stream",
     "text": [
      "{'instruction': 'Give three tips for staying healthy.', 'input': '', 'output': '1. Eat a balanced and nutritious diet: Make sure your meals are inclusive of a variety of fruits and vegetables, lean protein, whole grains, and healthy fats. This helps to provide your body with the essential nutrients to function at its best and can help prevent chronic diseases.\\n\\n2. Engage in regular physical activity: Exercise is crucial for maintaining strong bones, muscles, and cardiovascular health. Aim for at least 150 minutes of moderate aerobic exercise or 75 minutes of vigorous exercise each week.\\n\\n3. Get enough sleep: Getting enough quality sleep is crucial for physical and mental well-being. It helps to regulate mood, improve cognitive function, and supports healthy growth and immune function. Aim for 7-9 hours of sleep each night.'}\n"
     ]
    }
   ],
   "source": [
    "import json\n",
    "with open('datasets/alpaca_data_cleaned.json') as f:\n",
    "    alpaca_json = json.load(f)\n",
    "\n",
    "for item in alpaca_json:\n",
    "    if(len(item['input']) == 0):\n",
    "        print(item)\n",
    "        break"
   ]
  },
  {
   "cell_type": "code",
   "execution_count": 6,
   "metadata": {
    "tags": []
   },
   "outputs": [],
   "source": [
    "import json\n",
    "with open('datasets/alpaca_data_cleaned.json') as f:\n",
    "    alpaca_json = json.load(f)\n",
    "'''\n",
    "for item in alpaca_json:\n",
    "    if(len(item['input']) == 0):\n",
    "        item['input'] = ' '\n",
    "  \n",
    "\n",
    "'''\n",
    "\n",
    "# Create tokenized j\n",
    "squad_train = []\n",
    "squad_test = []\n",
    "\n",
    "for item in alpaca_json[:5176]:\n",
    "    if(len(item['input']) == 0):\n",
    "        squad_test.append(\n",
    "            {\n",
    "                'instruction': tokenizer.encode(item['instruction'], bos=True, eos=False, device=fabric.device),\n",
    "                'input': tokenizer.encode(item['input'], bos=False, eos=False, device=fabric.device),\n",
    "                'output':tokenizer.encode(item['output'], bos=False, eos=True, device=fabric.device)\n",
    "            }\n",
    "        )\n",
    "\n",
    "\n",
    "for item in alpaca_json[5176:]:\n",
    "    if(len(item['input']) == 0):\n",
    "        squad_train.append(\n",
    "            {\n",
    "                'instruction': tokenizer.encode(item['instruction'], bos=True, eos=False, device=fabric.device),\n",
    "                'input': tokenizer.encode(item['input'], bos=False, eos=False, device=fabric.device),\n",
    "                'output':tokenizer.encode(item['output'], bos=False, eos=True, device=fabric.device)\n",
    "            }\n",
    "        )"
   ]
  },
  {
   "cell_type": "code",
   "execution_count": 7,
   "metadata": {},
   "outputs": [
    {
     "name": "stdout",
     "output_type": "stream",
     "text": [
      "29515\n",
      "3088\n"
     ]
    }
   ],
   "source": [
    "print(len(squad_train))\n",
    "print(len(squad_test))"
   ]
  },
  {
   "cell_type": "code",
   "execution_count": 8,
   "metadata": {},
   "outputs": [],
   "source": [
    "def get_single_example(dataset, index=None):\n",
    "    if(index is None):\n",
    "        index = random.sample(range(len(dataset)), k=1)[0]\n",
    "    # IST\n",
    "    IST = IST_generator(LLamaModel(dataset[index]['instruction'].unsqueeze(0).to(fabric.device))[1])[:,-1,:]\n",
    "\n",
    "    # Question\n",
    "    question = LLamaModel.transformer.wte(dataset[index]['input'].unsqueeze(0).to(fabric.device)).squeeze()\n",
    "\n",
    "    # Answer fragment\n",
    "    answer_len = dataset[index]['output'].size(0)\n",
    "    trunc_len = random.randint(0,answer_len-1)\n",
    "    #print(answer_len)\n",
    "    #print(trunc_len)\n",
    "\n",
    "    truncated_answer = dataset[index]['output'][:trunc_len]\n",
    "    truncated_answer = LLamaModel.transformer.wte(truncated_answer)\n",
    "    \n",
    "    target_tokens = torch.cat([dataset[index]['input'], dataset[index]['output'][:trunc_len+1]])\n",
    "    #print(tokenizer.decode(target_tokens))\n",
    "\n",
    "    if(question.dim() == 1):\n",
    "        question = question.unsqueeze(0)\n",
    "\n",
    "    if(truncated_answer.dim() == 1):\n",
    "        truncated_answer = truncated_answer.unsqueeze(0)\n",
    "\n",
    "    llama_input = torch.cat([IST,question,truncated_answer])\n",
    "    return llama_input.unsqueeze(0), target_tokens.type(torch.LongTensor).unsqueeze(0)\n",
    "    \n",
    "    "
   ]
  },
  {
   "cell_type": "code",
   "execution_count": 9,
   "metadata": {},
   "outputs": [],
   "source": [
    "train_losses = []\n",
    "test_losses = []"
   ]
  },
  {
   "cell_type": "code",
   "execution_count": 10,
   "metadata": {},
   "outputs": [],
   "source": [
    "checkpoint_path: Path = Path(\"checkpoints/lit-llama/7B/lit-llama.pth\")\n",
    "tokenizer_path: Path = Path(\"checkpoints/lit-llama/tokenizer.model\")\n",
    "\n",
    "\n",
    "def load_LLaMA(checkpoint_path):\n",
    "    with lazy_load(checkpoint_path) as checkpoint:\n",
    "        name = llama_model_lookup(checkpoint)\n",
    "\n",
    "        with EmptyInitOnDevice(\n",
    "                device=fabric.device, dtype=dtype, quantization_mode=None # We won't quantize the weights\n",
    "        ):\n",
    "            model = LLaMA.from_name(name)\n",
    "\n",
    "        model.load_state_dict(checkpoint)\n",
    "    return model"
   ]
  },
  {
   "cell_type": "code",
   "execution_count": 11,
   "metadata": {},
   "outputs": [
    {
     "name": "stdout",
     "output_type": "stream",
     "text": [
      "Loading models...\n",
      "Finished loading the first model\n",
      "Finished loading models\n"
     ]
    }
   ],
   "source": [
    "\n",
    "dtype = torch.bfloat16 if fabric.device.type == \"cuda\" and torch.cuda.is_bf16_supported() else torch.float32\n",
    "\n",
    "LLaMA_config = model.LLaMAConfig.from_name('7B')\n",
    "print('Loading models...')\n",
    "# Load the LLaMa model and the IST generator (also a LLaMA model)\n",
    "LLamaModel = load_LLaMA(checkpoint_path).to(fabric.device)\n",
    "#LLamaModel = LLaMA(LLaMA_config).to(fabric.device)\n",
    "print('Finished loading the first model')\n",
    "print('Finished loading models')\n",
    "tokenizer = Tokenizer(tokenizer_path)\n",
    "\n",
    "IST_schemes = ['vanilla', 'last 4', '2nd to last', 'all layers']\n",
    "scheme_losses = {}\n",
    "\n",
    "IST_generator = model.Block(LLaMA_config)\n",
    "\n",
    "loss_fn = nn.CrossEntropyLoss()\n",
    "optimizer = torch.optim.Adam(IST_generator.parameters(), lr=1e-4)\n",
    "IST_generator = IST_generator.to(fabric.device)\n",
    "\n",
    "for param in LLamaModel.parameters():\n",
    "    param.requires_grad=False"
   ]
  },
  {
   "cell_type": "code",
   "execution_count": 12,
   "metadata": {},
   "outputs": [],
   "source": [
    "IST_generator = model.Block(LLaMA_config)\n",
    "IST_generator = IST_generator.to(fabric.device)"
   ]
  },
  {
   "cell_type": "code",
   "execution_count": 13,
   "metadata": {},
   "outputs": [],
   "source": [
    "optimizer = torch.optim.Adam(IST_generator.parameters(), lr=1e-5)"
   ]
  },
  {
   "cell_type": "code",
   "execution_count": 14,
   "metadata": {},
   "outputs": [],
   "source": [
    "learning_rate = 1e-5\n",
    "batch_size=32\n",
    "trainset_size=4000\n",
    "testset_size=1000\n",
    "\n",
    "config = {\n",
    "    'lr': learning_rate,\n",
    "    'batch_size': batch_size,\n",
    "    'trainset_size': trainset_size,\n",
    "    'testset_size':testset_size,\n",
    "}"
   ]
  },
  {
   "cell_type": "code",
   "execution_count": 15,
   "metadata": {},
   "outputs": [
    {
     "name": "stderr",
     "output_type": "stream",
     "text": [
      "Failed to detect the name of this notebook, you can set it manually with the WANDB_NOTEBOOK_NAME environment variable to enable code saving.\n",
      "\u001b[34m\u001b[1mwandb\u001b[0m: Currently logged in as: \u001b[33mandrew-zeng\u001b[0m (\u001b[33msmalllanguagemodels\u001b[0m). Use \u001b[1m`wandb login --relogin`\u001b[0m to force relogin\n"
     ]
    },
    {
     "data": {
      "text/plain": [
       "True"
      ]
     },
     "execution_count": 15,
     "metadata": {},
     "output_type": "execute_result"
    }
   ],
   "source": [
    "import wandb\n",
    "wandb.login()"
   ]
  },
  {
   "cell_type": "code",
   "execution_count": 16,
   "metadata": {},
   "outputs": [
    {
     "data": {
      "text/html": [
       "Tracking run with wandb version 0.15.4"
      ],
      "text/plain": [
       "<IPython.core.display.HTML object>"
      ]
     },
     "metadata": {},
     "output_type": "display_data"
    },
    {
     "data": {
      "text/html": [
       "Run data is saved locally in <code>/home/andrew/Documents/lit-llama/wandb/run-20230622_114131-14d4bgj6</code>"
      ],
      "text/plain": [
       "<IPython.core.display.HTML object>"
      ]
     },
     "metadata": {},
     "output_type": "display_data"
    },
    {
     "data": {
      "text/html": [
       "Syncing run <strong><a href='https://wandb.ai/smalllanguagemodels/Alpaca%20instruction%20tuning/runs/14d4bgj6' target=\"_blank\">Training the IST generator on Alpaca samples with empty input</a></strong> to <a href='https://wandb.ai/smalllanguagemodels/Alpaca%20instruction%20tuning' target=\"_blank\">Weights & Biases</a> (<a href='https://wandb.me/run' target=\"_blank\">docs</a>)<br/>"
      ],
      "text/plain": [
       "<IPython.core.display.HTML object>"
      ]
     },
     "metadata": {},
     "output_type": "display_data"
    },
    {
     "data": {
      "text/html": [
       " View project at <a href='https://wandb.ai/smalllanguagemodels/Alpaca%20instruction%20tuning' target=\"_blank\">https://wandb.ai/smalllanguagemodels/Alpaca%20instruction%20tuning</a>"
      ],
      "text/plain": [
       "<IPython.core.display.HTML object>"
      ]
     },
     "metadata": {},
     "output_type": "display_data"
    },
    {
     "data": {
      "text/html": [
       " View run at <a href='https://wandb.ai/smalllanguagemodels/Alpaca%20instruction%20tuning/runs/14d4bgj6' target=\"_blank\">https://wandb.ai/smalllanguagemodels/Alpaca%20instruction%20tuning/runs/14d4bgj6</a>"
      ],
      "text/plain": [
       "<IPython.core.display.HTML object>"
      ]
     },
     "metadata": {},
     "output_type": "display_data"
    },
    {
     "data": {
      "text/html": [
       "<button onClick=\"this.nextSibling.style.display='block';this.style.display='none';\">Display W&B run</button><iframe src='https://wandb.ai/smalllanguagemodels/Alpaca%20instruction%20tuning/runs/14d4bgj6?jupyter=true' style='border:none;width:100%;height:420px;display:none;'></iframe>"
      ],
      "text/plain": [
       "<wandb.sdk.wandb_run.Run at 0x7fd3b9fcebf0>"
      ]
     },
     "execution_count": 16,
     "metadata": {},
     "output_type": "execute_result"
    }
   ],
   "source": [
    "# init wandb\n",
    "wandb.init(\n",
    "    project='Alpaca instruction tuning',\n",
    "    config=config,\n",
    "    name=\"Training the IST generator on Alpaca samples with empty input\"\n",
    ")"
   ]
  },
  {
   "cell_type": "code",
   "execution_count": 17,
   "metadata": {},
   "outputs": [],
   "source": [
    "optimizer = torch.optim.Adam(IST_generator.parameters(), lr=1e-4)"
   ]
  },
  {
   "cell_type": "code",
   "execution_count": 18,
   "metadata": {},
   "outputs": [
    {
     "name": "stdout",
     "output_type": "stream",
     "text": [
      "epoch 0, train loss = 5.7236328125, validation loss=2.375732421875\n",
      "epoch 0, train loss = 3.821533203125, validation loss=2.591064453125\n",
      "epoch 0, train loss = 2.6571044921875, validation loss=3.30908203125\n",
      "epoch 0, train loss = 2.62548828125, validation loss=3.2879638671875\n",
      "epoch 0, train loss = 2.8255615234375, validation loss=2.4464111328125\n",
      "epoch 0, train loss = 2.501708984375, validation loss=2.642333984375\n",
      "epoch 0, train loss = 2.522705078125, validation loss=2.10302734375\n",
      "epoch 0, train loss = 2.0941162109375, validation loss=2.79296875\n",
      "epoch 0, train loss = 2.6201171875, validation loss=2.7679443359375\n",
      "epoch 0, train loss = 2.658935546875, validation loss=2.4058837890625\n",
      "epoch 0, train loss = 2.185791015625, validation loss=2.31787109375\n",
      "epoch 0, train loss = 2.429443359375, validation loss=2.2755126953125\n",
      "epoch 0, train loss = 1.9488525390625, validation loss=2.341064453125\n",
      "epoch 0, train loss = 2.5023193359375, validation loss=2.442626953125\n",
      "epoch 0, train loss = 2.2188720703125, validation loss=2.555908203125\n",
      "epoch 0, train loss = 1.9033203125, validation loss=2.30712890625\n",
      "epoch 0, train loss = 2.135009765625, validation loss=2.007568359375\n",
      "epoch 0, train loss = 2.358642578125, validation loss=2.301025390625\n",
      "epoch 0, train loss = 2.18359375, validation loss=2.37841796875\n",
      "epoch 0, train loss = 2.263427734375, validation loss=2.7052001953125\n",
      "epoch 0, train loss = 2.5860595703125, validation loss=2.08544921875\n",
      "epoch 0, train loss = 1.994384765625, validation loss=2.4307861328125\n",
      "epoch 0, train loss = 2.088623046875, validation loss=1.7882080078125\n",
      "epoch 0, train loss = 1.9261474609375, validation loss=2.1497802734375\n",
      "epoch 0, train loss = 2.0291748046875, validation loss=2.234375\n",
      "epoch 0, train loss = 2.201416015625, validation loss=2.2044677734375\n",
      "epoch 0, train loss = 2.10693359375, validation loss=2.1324462890625\n",
      "epoch 0, train loss = 2.08038330078125, validation loss=2.332275390625\n",
      "epoch 0, train loss = 1.97265625, validation loss=1.9822998046875\n",
      "epoch 0, train loss = 1.959716796875, validation loss=2.1138916015625\n",
      "epoch 0, train loss = 2.4525146484375, validation loss=1.9962158203125\n",
      "epoch 0, train loss = 1.892578125, validation loss=1.922607421875\n",
      "epoch 0, train loss = 2.548095703125, validation loss=2.123779296875\n",
      "epoch 0, train loss = 1.928955078125, validation loss=2.373779296875\n",
      "epoch 0, train loss = 2.256103515625, validation loss=1.7579345703125\n",
      "epoch 0, train loss = 2.2283935546875, validation loss=2.0526123046875\n",
      "epoch 0, train loss = 2.001220703125, validation loss=2.32373046875\n",
      "epoch 0, train loss = 2.756591796875, validation loss=2.00244140625\n",
      "epoch 0, train loss = 1.856689453125, validation loss=2.4442138671875\n",
      "epoch 0, train loss = 2.1978759765625, validation loss=1.7744140625\n",
      "epoch 0, train loss = 1.990478515625, validation loss=2.0849609375\n",
      "epoch 0, train loss = 2.0654296875, validation loss=2.0657958984375\n",
      "epoch 0, train loss = 1.52978515625, validation loss=2.478759765625\n",
      "epoch 0, train loss = 2.0635986328125, validation loss=2.33642578125\n",
      "epoch 0, train loss = 2.205078125, validation loss=2.096435546875\n",
      "epoch 0, train loss = 2.008544921875, validation loss=1.7769775390625\n",
      "epoch 0, train loss = 2.03887939453125, validation loss=2.0015869140625\n",
      "epoch 0, train loss = 2.2474365234375, validation loss=1.7059326171875\n",
      "epoch 0, train loss = 1.7882080078125, validation loss=1.9259033203125\n",
      "epoch 0, train loss = 1.6885986328125, validation loss=1.896728515625\n",
      "epoch 0, train loss = 1.6424560546875, validation loss=1.810302734375\n",
      "epoch 0, train loss = 2.2161865234375, validation loss=1.6888427734375\n",
      "epoch 0, train loss = 2.0228271484375, validation loss=1.9580078125\n",
      "epoch 0, train loss = 1.974853515625, validation loss=2.10205078125\n",
      "epoch 0, train loss = 2.139892578125, validation loss=2.088134765625\n",
      "epoch 0, train loss = 1.669189453125, validation loss=2.124267578125\n",
      "epoch 0, train loss = 1.9429931640625, validation loss=2.1685791015625\n",
      "epoch 0, train loss = 2.1781005859375, validation loss=1.5972900390625\n",
      "epoch 0, train loss = 2.0693359375, validation loss=1.746337890625\n",
      "epoch 0, train loss = 1.8631591796875, validation loss=1.5675048828125\n",
      "epoch 0, train loss = 2.212890625, validation loss=2.269287109375\n",
      "epoch 0, train loss = 1.6143798828125, validation loss=1.4715576171875\n",
      "epoch 0, train loss = 1.9168701171875, validation loss=1.892822265625\n",
      "epoch 0, train loss = 2.158203125, validation loss=1.833740234375\n",
      "epoch 0, train loss = 1.986328125, validation loss=1.7406005859375\n",
      "epoch 0, train loss = 1.8131103515625, validation loss=2.060302734375\n",
      "epoch 0, train loss = 2.0703125, validation loss=1.7431640625\n",
      "epoch 0, train loss = 2.362060546875, validation loss=1.812744140625\n",
      "epoch 0, train loss = 1.71630859375, validation loss=1.8421630859375\n",
      "epoch 0, train loss = 1.929443359375, validation loss=1.83642578125\n",
      "epoch 0, train loss = 1.9073486328125, validation loss=1.765625\n",
      "epoch 0, train loss = 1.69384765625, validation loss=2.3665771484375\n",
      "epoch 0, train loss = 1.7906494140625, validation loss=2.0836181640625\n",
      "epoch 0, train loss = 1.5362548828125, validation loss=1.8856201171875\n",
      "epoch 0, train loss = 1.636962890625, validation loss=2.19140625\n",
      "epoch 0, train loss = 2.005859375, validation loss=1.965576171875\n",
      "epoch 0, train loss = 1.9315185546875, validation loss=1.94293212890625\n",
      "epoch 0, train loss = 1.8302001953125, validation loss=2.255615234375\n",
      "epoch 0, train loss = 1.7203369140625, validation loss=1.7091064453125\n",
      "epoch 0, train loss = 1.7081298828125, validation loss=1.646728515625\n",
      "epoch 0, train loss = 1.7203369140625, validation loss=1.7276611328125\n",
      "epoch 0, train loss = 1.7901611328125, validation loss=1.895751953125\n",
      "epoch 0, train loss = 2.021728515625, validation loss=1.92919921875\n",
      "epoch 0, train loss = 1.5670166015625, validation loss=1.9730224609375\n",
      "epoch 0, train loss = 1.789794921875, validation loss=1.76806640625\n",
      "epoch 0, train loss = 1.8525390625, validation loss=1.7813720703125\n",
      "epoch 0, train loss = 2.0965576171875, validation loss=1.7840576171875\n",
      "epoch 0, train loss = 1.8631591796875, validation loss=2.1187744140625\n",
      "epoch 0, train loss = 1.97021484375, validation loss=1.6378173828125\n",
      "epoch 0, train loss = 2.0428466796875, validation loss=2.1478271484375\n",
      "epoch 0, train loss = 1.6492919921875, validation loss=1.74591064453125\n",
      "epoch 0, train loss = 1.4658203125, validation loss=1.986572265625\n",
      "epoch 0, train loss = 1.8948974609375, validation loss=1.5633544921875\n",
      "epoch 0, train loss = 1.8687744140625, validation loss=1.39422607421875\n",
      "epoch 0, train loss = 2.0938720703125, validation loss=1.854248046875\n",
      "epoch 0, train loss = 1.8189697265625, validation loss=1.84912109375\n",
      "epoch 0, train loss = 2.08203125, validation loss=1.3834228515625\n",
      "epoch 0, train loss = 2.096923828125, validation loss=2.1846923828125\n",
      "epoch 0, train loss = 1.8300628662109375, validation loss=1.885986328125\n",
      "epoch 0, train loss = 1.804443359375, validation loss=2.0863037109375\n",
      "epoch 0, train loss = 2.1846923828125, validation loss=1.6746826171875\n",
      "epoch 0, train loss = 1.8819580078125, validation loss=1.846923828125\n",
      "epoch 0, train loss = 1.5699462890625, validation loss=1.7186279296875\n",
      "epoch 0, train loss = 1.90771484375, validation loss=1.8739013671875\n",
      "epoch 0, train loss = 1.9024658203125, validation loss=1.709716796875\n",
      "epoch 0, train loss = 1.7567138671875, validation loss=2.2698974609375\n",
      "epoch 0, train loss = 1.9761962890625, validation loss=2.2000732421875\n",
      "epoch 0, train loss = 1.9564208984375, validation loss=1.7911376953125\n",
      "epoch 0, train loss = 1.761474609375, validation loss=1.965087890625\n",
      "epoch 0, train loss = 1.843994140625, validation loss=1.463623046875\n",
      "epoch 0, train loss = 1.626953125, validation loss=1.7344970703125\n",
      "epoch 0, train loss = 1.87841796875, validation loss=1.87396240234375\n",
      "epoch 0, train loss = 2.3447265625, validation loss=1.5234375\n",
      "epoch 0, train loss = 1.5205078125, validation loss=1.5479736328125\n",
      "epoch 0, train loss = 2.6444091796875, validation loss=1.6357421875\n",
      "epoch 0, train loss = 1.718994140625, validation loss=1.642822265625\n",
      "epoch 0, train loss = 2.089599609375, validation loss=1.7669677734375\n",
      "epoch 0, train loss = 2.068115234375, validation loss=1.962158203125\n",
      "epoch 0, train loss = 1.9361572265625, validation loss=1.6221923828125\n",
      "epoch 0, train loss = 1.9388427734375, validation loss=1.97412109375\n",
      "epoch 0, train loss = 1.6676025390625, validation loss=1.5933837890625\n",
      "epoch 0, train loss = 1.9866943359375, validation loss=1.57763671875\n",
      "epoch 0, train loss = 2.0218505859375, validation loss=1.8663330078125\n",
      "epoch 0, train loss = 1.5577392578125, validation loss=1.8236083984375\n",
      "epoch 0, train loss = 1.5013427734375, validation loss=1.6883544921875\n",
      "epoch 0, train loss = 2.051513671875, validation loss=1.6612548828125\n",
      "epoch 0, train loss = 1.677490234375, validation loss=1.6993408203125\n",
      "epoch 0, train loss = 2.4376220703125, validation loss=1.8804931640625\n",
      "epoch 0, train loss = 1.921875, validation loss=1.642578125\n",
      "epoch 0, train loss = 1.658203125, validation loss=1.4923095703125\n",
      "epoch 0, train loss = 1.611328125, validation loss=1.7784423828125\n",
      "epoch 0, train loss = 1.644775390625, validation loss=1.3984375\n",
      "epoch 0, train loss = 1.6673583984375, validation loss=1.451171875\n",
      "epoch 0, train loss = 1.9910888671875, validation loss=1.6160888671875\n",
      "epoch 0, train loss = 1.635986328125, validation loss=1.789306640625\n",
      "epoch 0, train loss = 1.8302001953125, validation loss=1.6544189453125\n",
      "epoch 0, train loss = 1.6654052734375, validation loss=1.6004638671875\n",
      "epoch 0, train loss = 1.7991943359375, validation loss=1.8841552734375\n",
      "epoch 0, train loss = 1.635986328125, validation loss=1.94921875\n",
      "epoch 0, train loss = 2.005859375, validation loss=1.554443359375\n",
      "epoch 0, train loss = 1.824951171875, validation loss=1.3896484375\n",
      "epoch 0, train loss = 2.06634521484375, validation loss=1.6014404296875\n",
      "epoch 0, train loss = 2.168701171875, validation loss=1.4598388671875\n",
      "epoch 0, train loss = 1.83782958984375, validation loss=1.7056884765625\n",
      "epoch 0, train loss = 1.626708984375, validation loss=1.9873046875\n",
      "epoch 0, train loss = 1.57861328125, validation loss=1.7021484375\n",
      "epoch 0, train loss = 1.728759765625, validation loss=1.84814453125\n",
      "epoch 0, train loss = 1.7315673828125, validation loss=1.6953125\n"
     ]
    },
    {
     "data": {
      "text/html": [
       "<pre style=\"white-space:pre;overflow-x:auto;line-height:normal;font-family:Menlo,'DejaVu Sans Mono',consolas,'Courier New',monospace\"><span style=\"color: #800000; text-decoration-color: #800000\">╭─────────────────────────────── </span><span style=\"color: #800000; text-decoration-color: #800000; font-weight: bold\">Traceback </span><span style=\"color: #bf7f7f; text-decoration-color: #bf7f7f; font-weight: bold\">(most recent call last)</span><span style=\"color: #800000; text-decoration-color: #800000\"> ────────────────────────────────╮</span>\n",
       "<span style=\"color: #800000; text-decoration-color: #800000\">│</span> in <span style=\"color: #00ff00; text-decoration-color: #00ff00\">&lt;module&gt;</span>:<span style=\"color: #0000ff; text-decoration-color: #0000ff\">23</span>                                                                                   <span style=\"color: #800000; text-decoration-color: #800000\">│</span>\n",
       "<span style=\"color: #800000; text-decoration-color: #800000\">│</span>                                                                                                  <span style=\"color: #800000; text-decoration-color: #800000\">│</span>\n",
       "<span style=\"color: #800000; text-decoration-color: #800000\">│</span>   <span style=\"color: #7f7f7f; text-decoration-color: #7f7f7f\">20 </span><span style=\"color: #7f7f7f; text-decoration-color: #7f7f7f\">│   │   </span>optimizer.zero_grad()                                                               <span style=\"color: #800000; text-decoration-color: #800000\">│</span>\n",
       "<span style=\"color: #800000; text-decoration-color: #800000\">│</span>   <span style=\"color: #7f7f7f; text-decoration-color: #7f7f7f\">21 </span><span style=\"color: #7f7f7f; text-decoration-color: #7f7f7f\">│   │   </span><span style=\"color: #0000ff; text-decoration-color: #0000ff\">for</span> i <span style=\"color: #ff00ff; text-decoration-color: #ff00ff\">in</span> <span style=\"color: #00ffff; text-decoration-color: #00ffff\">range</span>(batch_size):                                                         <span style=\"color: #800000; text-decoration-color: #800000\">│</span>\n",
       "<span style=\"color: #800000; text-decoration-color: #800000\">│</span>   <span style=\"color: #7f7f7f; text-decoration-color: #7f7f7f\">22 </span><span style=\"color: #7f7f7f; text-decoration-color: #7f7f7f\">│   │   │   </span><span style=\"color: #00ffff; text-decoration-color: #00ffff\">input</span>, target = get_single_example(squad_train, index=batch_indices[i])         <span style=\"color: #800000; text-decoration-color: #800000\">│</span>\n",
       "<span style=\"color: #800000; text-decoration-color: #800000\">│</span> <span style=\"color: #800000; text-decoration-color: #800000\">❱ </span>23 <span style=\"color: #7f7f7f; text-decoration-color: #7f7f7f\">│   │   │   </span>llama_output = LLamaModel.forward_embeddings(<span style=\"color: #00ffff; text-decoration-color: #00ffff\">input</span>.type(torch.bfloat16))[<span style=\"color: #0000ff; text-decoration-color: #0000ff\">0</span>]     <span style=\"color: #800000; text-decoration-color: #800000\">│</span>\n",
       "<span style=\"color: #800000; text-decoration-color: #800000\">│</span>   <span style=\"color: #7f7f7f; text-decoration-color: #7f7f7f\">24 </span><span style=\"color: #7f7f7f; text-decoration-color: #7f7f7f\">│   │   │   </span>loss = loss_fn(llama_output.squeeze().to(fabric.device), target.squeeze().to    <span style=\"color: #800000; text-decoration-color: #800000\">│</span>\n",
       "<span style=\"color: #800000; text-decoration-color: #800000\">│</span>   <span style=\"color: #7f7f7f; text-decoration-color: #7f7f7f\">25 </span><span style=\"color: #7f7f7f; text-decoration-color: #7f7f7f\">│   │   │   </span>loss.backward()                                                                 <span style=\"color: #800000; text-decoration-color: #800000\">│</span>\n",
       "<span style=\"color: #800000; text-decoration-color: #800000\">│</span>   <span style=\"color: #7f7f7f; text-decoration-color: #7f7f7f\">26 </span><span style=\"color: #7f7f7f; text-decoration-color: #7f7f7f\">│   │   │   </span>batch_loss += loss.item()                                                       <span style=\"color: #800000; text-decoration-color: #800000\">│</span>\n",
       "<span style=\"color: #800000; text-decoration-color: #800000\">│</span>                                                                                                  <span style=\"color: #800000; text-decoration-color: #800000\">│</span>\n",
       "<span style=\"color: #800000; text-decoration-color: #800000\">│</span> <span style=\"color: #bfbf7f; text-decoration-color: #bfbf7f\">/home/andrew/Documents/lit-llama/lit_llama/</span><span style=\"color: #808000; text-decoration-color: #808000; font-weight: bold\">model.py</span>:<span style=\"color: #0000ff; text-decoration-color: #0000ff\">110</span> in <span style=\"color: #00ff00; text-decoration-color: #00ff00\">forward_embeddings</span>                    <span style=\"color: #800000; text-decoration-color: #800000\">│</span>\n",
       "<span style=\"color: #800000; text-decoration-color: #800000\">│</span>                                                                                                  <span style=\"color: #800000; text-decoration-color: #800000\">│</span>\n",
       "<span style=\"color: #800000; text-decoration-color: #800000\">│</span>   <span style=\"color: #7f7f7f; text-decoration-color: #7f7f7f\">107 </span><span style=\"color: #7f7f7f; text-decoration-color: #7f7f7f\">│   │   │   </span>x = torch.cat((internal_state_tokens.reshape(<span style=\"color: #0000ff; text-decoration-color: #0000ff\">1</span>,<span style=\"color: #0000ff; text-decoration-color: #0000ff\">1</span>,-<span style=\"color: #0000ff; text-decoration-color: #0000ff\">1</span>).to(embeddings.device),    <span style=\"color: #800000; text-decoration-color: #800000\">│</span>\n",
       "<span style=\"color: #800000; text-decoration-color: #800000\">│</span>   <span style=\"color: #7f7f7f; text-decoration-color: #7f7f7f\">108 </span><span style=\"color: #7f7f7f; text-decoration-color: #7f7f7f\">│   │   </span>                                                                                   <span style=\"color: #800000; text-decoration-color: #800000\">│</span>\n",
       "<span style=\"color: #800000; text-decoration-color: #800000\">│</span>   <span style=\"color: #7f7f7f; text-decoration-color: #7f7f7f\">109 </span><span style=\"color: #7f7f7f; text-decoration-color: #7f7f7f\">│   │   </span><span style=\"color: #0000ff; text-decoration-color: #0000ff\">for</span> block <span style=\"color: #ff00ff; text-decoration-color: #ff00ff\">in</span> <span style=\"color: #00ffff; text-decoration-color: #00ffff\">self</span>.transformer.h:                                                   <span style=\"color: #800000; text-decoration-color: #800000\">│</span>\n",
       "<span style=\"color: #800000; text-decoration-color: #800000\">│</span> <span style=\"color: #800000; text-decoration-color: #800000\">❱ </span>110 <span style=\"color: #7f7f7f; text-decoration-color: #7f7f7f\">│   │   │   </span>x = block(x)                                                                   <span style=\"color: #800000; text-decoration-color: #800000\">│</span>\n",
       "<span style=\"color: #800000; text-decoration-color: #800000\">│</span>   <span style=\"color: #7f7f7f; text-decoration-color: #7f7f7f\">111 </span><span style=\"color: #7f7f7f; text-decoration-color: #7f7f7f\">│   │   </span>x = <span style=\"color: #00ffff; text-decoration-color: #00ffff\">self</span>.transformer.ln_f(x)                                                       <span style=\"color: #800000; text-decoration-color: #800000\">│</span>\n",
       "<span style=\"color: #800000; text-decoration-color: #800000\">│</span>   <span style=\"color: #7f7f7f; text-decoration-color: #7f7f7f\">112 </span><span style=\"color: #7f7f7f; text-decoration-color: #7f7f7f\">│   │   </span>                                                                                   <span style=\"color: #800000; text-decoration-color: #800000\">│</span>\n",
       "<span style=\"color: #800000; text-decoration-color: #800000\">│</span>   <span style=\"color: #7f7f7f; text-decoration-color: #7f7f7f\">113 </span><span style=\"color: #7f7f7f; text-decoration-color: #7f7f7f\">│   │   </span>logits = <span style=\"color: #00ffff; text-decoration-color: #00ffff\">self</span>.lm_head(x)  <span style=\"color: #7f7f7f; text-decoration-color: #7f7f7f\"># (b, t, vocab_size)</span>                                     <span style=\"color: #800000; text-decoration-color: #800000\">│</span>\n",
       "<span style=\"color: #800000; text-decoration-color: #800000\">│</span>                                                                                                  <span style=\"color: #800000; text-decoration-color: #800000\">│</span>\n",
       "<span style=\"color: #800000; text-decoration-color: #800000\">│</span> <span style=\"color: #bfbf7f; text-decoration-color: #bfbf7f\">/home/andrew/.local/lib/python3.10/site-packages/torch/nn/modules/</span><span style=\"color: #808000; text-decoration-color: #808000; font-weight: bold\">module.py</span>:<span style=\"color: #0000ff; text-decoration-color: #0000ff\">1501</span> in <span style=\"color: #00ff00; text-decoration-color: #00ff00\">_call_impl</span>   <span style=\"color: #800000; text-decoration-color: #800000\">│</span>\n",
       "<span style=\"color: #800000; text-decoration-color: #800000\">│</span>                                                                                                  <span style=\"color: #800000; text-decoration-color: #800000\">│</span>\n",
       "<span style=\"color: #800000; text-decoration-color: #800000\">│</span>   <span style=\"color: #7f7f7f; text-decoration-color: #7f7f7f\">1498 </span><span style=\"color: #7f7f7f; text-decoration-color: #7f7f7f\">│   │   </span><span style=\"color: #0000ff; text-decoration-color: #0000ff\">if</span> <span style=\"color: #ff00ff; text-decoration-color: #ff00ff\">not</span> (<span style=\"color: #00ffff; text-decoration-color: #00ffff\">self</span>._backward_hooks <span style=\"color: #ff00ff; text-decoration-color: #ff00ff\">or</span> <span style=\"color: #00ffff; text-decoration-color: #00ffff\">self</span>._backward_pre_hooks <span style=\"color: #ff00ff; text-decoration-color: #ff00ff\">or</span> <span style=\"color: #00ffff; text-decoration-color: #00ffff\">self</span>._forward_hooks   <span style=\"color: #800000; text-decoration-color: #800000\">│</span>\n",
       "<span style=\"color: #800000; text-decoration-color: #800000\">│</span>   <span style=\"color: #7f7f7f; text-decoration-color: #7f7f7f\">1499 </span><span style=\"color: #7f7f7f; text-decoration-color: #7f7f7f\">│   │   │   │   </span><span style=\"color: #ff00ff; text-decoration-color: #ff00ff\">or</span> _global_backward_pre_hooks <span style=\"color: #ff00ff; text-decoration-color: #ff00ff\">or</span> _global_backward_hooks                   <span style=\"color: #800000; text-decoration-color: #800000\">│</span>\n",
       "<span style=\"color: #800000; text-decoration-color: #800000\">│</span>   <span style=\"color: #7f7f7f; text-decoration-color: #7f7f7f\">1500 </span><span style=\"color: #7f7f7f; text-decoration-color: #7f7f7f\">│   │   │   │   </span><span style=\"color: #ff00ff; text-decoration-color: #ff00ff\">or</span> _global_forward_hooks <span style=\"color: #ff00ff; text-decoration-color: #ff00ff\">or</span> _global_forward_pre_hooks):                   <span style=\"color: #800000; text-decoration-color: #800000\">│</span>\n",
       "<span style=\"color: #800000; text-decoration-color: #800000\">│</span> <span style=\"color: #800000; text-decoration-color: #800000\">❱ </span>1501 <span style=\"color: #7f7f7f; text-decoration-color: #7f7f7f\">│   │   │   </span><span style=\"color: #0000ff; text-decoration-color: #0000ff\">return</span> forward_call(*args, **kwargs)                                          <span style=\"color: #800000; text-decoration-color: #800000\">│</span>\n",
       "<span style=\"color: #800000; text-decoration-color: #800000\">│</span>   <span style=\"color: #7f7f7f; text-decoration-color: #7f7f7f\">1502 </span><span style=\"color: #7f7f7f; text-decoration-color: #7f7f7f\">│   │   </span><span style=\"color: #7f7f7f; text-decoration-color: #7f7f7f\"># Do not call functions when jit is used</span>                                          <span style=\"color: #800000; text-decoration-color: #800000\">│</span>\n",
       "<span style=\"color: #800000; text-decoration-color: #800000\">│</span>   <span style=\"color: #7f7f7f; text-decoration-color: #7f7f7f\">1503 </span><span style=\"color: #7f7f7f; text-decoration-color: #7f7f7f\">│   │   </span>full_backward_hooks, non_full_backward_hooks = [], []                             <span style=\"color: #800000; text-decoration-color: #800000\">│</span>\n",
       "<span style=\"color: #800000; text-decoration-color: #800000\">│</span>   <span style=\"color: #7f7f7f; text-decoration-color: #7f7f7f\">1504 </span><span style=\"color: #7f7f7f; text-decoration-color: #7f7f7f\">│   │   </span>backward_pre_hooks = []                                                           <span style=\"color: #800000; text-decoration-color: #800000\">│</span>\n",
       "<span style=\"color: #800000; text-decoration-color: #800000\">│</span>                                                                                                  <span style=\"color: #800000; text-decoration-color: #800000\">│</span>\n",
       "<span style=\"color: #800000; text-decoration-color: #800000\">│</span> <span style=\"color: #bfbf7f; text-decoration-color: #bfbf7f\">/home/andrew/Documents/lit-llama/lit_llama/</span><span style=\"color: #808000; text-decoration-color: #808000; font-weight: bold\">model.py</span>:<span style=\"color: #0000ff; text-decoration-color: #0000ff\">138</span> in <span style=\"color: #00ff00; text-decoration-color: #00ff00\">forward</span>                               <span style=\"color: #800000; text-decoration-color: #800000\">│</span>\n",
       "<span style=\"color: #800000; text-decoration-color: #800000\">│</span>                                                                                                  <span style=\"color: #800000; text-decoration-color: #800000\">│</span>\n",
       "<span style=\"color: #800000; text-decoration-color: #800000\">│</span>   <span style=\"color: #7f7f7f; text-decoration-color: #7f7f7f\">135 </span><span style=\"color: #7f7f7f; text-decoration-color: #7f7f7f\">│   </span>                                                                                       <span style=\"color: #800000; text-decoration-color: #800000\">│</span>\n",
       "<span style=\"color: #800000; text-decoration-color: #800000\">│</span>   <span style=\"color: #7f7f7f; text-decoration-color: #7f7f7f\">136 </span><span style=\"color: #7f7f7f; text-decoration-color: #7f7f7f\">│   </span>                                                                                       <span style=\"color: #800000; text-decoration-color: #800000\">│</span>\n",
       "<span style=\"color: #800000; text-decoration-color: #800000\">│</span>   <span style=\"color: #7f7f7f; text-decoration-color: #7f7f7f\">137 </span><span style=\"color: #7f7f7f; text-decoration-color: #7f7f7f\">│   </span><span style=\"color: #0000ff; text-decoration-color: #0000ff\">def</span> <span style=\"color: #00ff00; text-decoration-color: #00ff00\">forward</span>(<span style=\"color: #00ffff; text-decoration-color: #00ffff\">self</span>, x: torch.Tensor) -&gt; torch.Tensor:                                    <span style=\"color: #800000; text-decoration-color: #800000\">│</span>\n",
       "<span style=\"color: #800000; text-decoration-color: #800000\">│</span> <span style=\"color: #800000; text-decoration-color: #800000\">❱ </span>138 <span style=\"color: #7f7f7f; text-decoration-color: #7f7f7f\">│   │   </span>x = x + <span style=\"color: #00ffff; text-decoration-color: #00ffff\">self</span>.attn(<span style=\"color: #00ffff; text-decoration-color: #00ffff\">self</span>.rms_1(x))                                                   <span style=\"color: #800000; text-decoration-color: #800000\">│</span>\n",
       "<span style=\"color: #800000; text-decoration-color: #800000\">│</span>   <span style=\"color: #7f7f7f; text-decoration-color: #7f7f7f\">139 </span><span style=\"color: #7f7f7f; text-decoration-color: #7f7f7f\">│   │   </span>x = x + <span style=\"color: #00ffff; text-decoration-color: #00ffff\">self</span>.mlp(<span style=\"color: #00ffff; text-decoration-color: #00ffff\">self</span>.rms_2(x))                                                    <span style=\"color: #800000; text-decoration-color: #800000\">│</span>\n",
       "<span style=\"color: #800000; text-decoration-color: #800000\">│</span>   <span style=\"color: #7f7f7f; text-decoration-color: #7f7f7f\">140 </span><span style=\"color: #7f7f7f; text-decoration-color: #7f7f7f\">│   │   </span><span style=\"color: #0000ff; text-decoration-color: #0000ff\">return</span> x                                                                           <span style=\"color: #800000; text-decoration-color: #800000\">│</span>\n",
       "<span style=\"color: #800000; text-decoration-color: #800000\">│</span>   <span style=\"color: #7f7f7f; text-decoration-color: #7f7f7f\">141 </span>                                                                                           <span style=\"color: #800000; text-decoration-color: #800000\">│</span>\n",
       "<span style=\"color: #800000; text-decoration-color: #800000\">│</span>                                                                                                  <span style=\"color: #800000; text-decoration-color: #800000\">│</span>\n",
       "<span style=\"color: #800000; text-decoration-color: #800000\">│</span> <span style=\"color: #bfbf7f; text-decoration-color: #bfbf7f\">/home/andrew/.local/lib/python3.10/site-packages/torch/nn/modules/</span><span style=\"color: #808000; text-decoration-color: #808000; font-weight: bold\">module.py</span>:<span style=\"color: #0000ff; text-decoration-color: #0000ff\">1501</span> in <span style=\"color: #00ff00; text-decoration-color: #00ff00\">_call_impl</span>   <span style=\"color: #800000; text-decoration-color: #800000\">│</span>\n",
       "<span style=\"color: #800000; text-decoration-color: #800000\">│</span>                                                                                                  <span style=\"color: #800000; text-decoration-color: #800000\">│</span>\n",
       "<span style=\"color: #800000; text-decoration-color: #800000\">│</span>   <span style=\"color: #7f7f7f; text-decoration-color: #7f7f7f\">1498 </span><span style=\"color: #7f7f7f; text-decoration-color: #7f7f7f\">│   │   </span><span style=\"color: #0000ff; text-decoration-color: #0000ff\">if</span> <span style=\"color: #ff00ff; text-decoration-color: #ff00ff\">not</span> (<span style=\"color: #00ffff; text-decoration-color: #00ffff\">self</span>._backward_hooks <span style=\"color: #ff00ff; text-decoration-color: #ff00ff\">or</span> <span style=\"color: #00ffff; text-decoration-color: #00ffff\">self</span>._backward_pre_hooks <span style=\"color: #ff00ff; text-decoration-color: #ff00ff\">or</span> <span style=\"color: #00ffff; text-decoration-color: #00ffff\">self</span>._forward_hooks   <span style=\"color: #800000; text-decoration-color: #800000\">│</span>\n",
       "<span style=\"color: #800000; text-decoration-color: #800000\">│</span>   <span style=\"color: #7f7f7f; text-decoration-color: #7f7f7f\">1499 </span><span style=\"color: #7f7f7f; text-decoration-color: #7f7f7f\">│   │   │   │   </span><span style=\"color: #ff00ff; text-decoration-color: #ff00ff\">or</span> _global_backward_pre_hooks <span style=\"color: #ff00ff; text-decoration-color: #ff00ff\">or</span> _global_backward_hooks                   <span style=\"color: #800000; text-decoration-color: #800000\">│</span>\n",
       "<span style=\"color: #800000; text-decoration-color: #800000\">│</span>   <span style=\"color: #7f7f7f; text-decoration-color: #7f7f7f\">1500 </span><span style=\"color: #7f7f7f; text-decoration-color: #7f7f7f\">│   │   │   │   </span><span style=\"color: #ff00ff; text-decoration-color: #ff00ff\">or</span> _global_forward_hooks <span style=\"color: #ff00ff; text-decoration-color: #ff00ff\">or</span> _global_forward_pre_hooks):                   <span style=\"color: #800000; text-decoration-color: #800000\">│</span>\n",
       "<span style=\"color: #800000; text-decoration-color: #800000\">│</span> <span style=\"color: #800000; text-decoration-color: #800000\">❱ </span>1501 <span style=\"color: #7f7f7f; text-decoration-color: #7f7f7f\">│   │   │   </span><span style=\"color: #0000ff; text-decoration-color: #0000ff\">return</span> forward_call(*args, **kwargs)                                          <span style=\"color: #800000; text-decoration-color: #800000\">│</span>\n",
       "<span style=\"color: #800000; text-decoration-color: #800000\">│</span>   <span style=\"color: #7f7f7f; text-decoration-color: #7f7f7f\">1502 </span><span style=\"color: #7f7f7f; text-decoration-color: #7f7f7f\">│   │   </span><span style=\"color: #7f7f7f; text-decoration-color: #7f7f7f\"># Do not call functions when jit is used</span>                                          <span style=\"color: #800000; text-decoration-color: #800000\">│</span>\n",
       "<span style=\"color: #800000; text-decoration-color: #800000\">│</span>   <span style=\"color: #7f7f7f; text-decoration-color: #7f7f7f\">1503 </span><span style=\"color: #7f7f7f; text-decoration-color: #7f7f7f\">│   │   </span>full_backward_hooks, non_full_backward_hooks = [], []                             <span style=\"color: #800000; text-decoration-color: #800000\">│</span>\n",
       "<span style=\"color: #800000; text-decoration-color: #800000\">│</span>   <span style=\"color: #7f7f7f; text-decoration-color: #7f7f7f\">1504 </span><span style=\"color: #7f7f7f; text-decoration-color: #7f7f7f\">│   │   </span>backward_pre_hooks = []                                                           <span style=\"color: #800000; text-decoration-color: #800000\">│</span>\n",
       "<span style=\"color: #800000; text-decoration-color: #800000\">│</span>                                                                                                  <span style=\"color: #800000; text-decoration-color: #800000\">│</span>\n",
       "<span style=\"color: #800000; text-decoration-color: #800000\">│</span> <span style=\"color: #bfbf7f; text-decoration-color: #bfbf7f\">/home/andrew/Documents/lit-llama/lit_llama/</span><span style=\"color: #808000; text-decoration-color: #808000; font-weight: bold\">model.py</span>:<span style=\"color: #0000ff; text-decoration-color: #0000ff\">198</span> in <span style=\"color: #00ff00; text-decoration-color: #00ff00\">forward</span>                               <span style=\"color: #800000; text-decoration-color: #800000\">│</span>\n",
       "<span style=\"color: #800000; text-decoration-color: #800000\">│</span>                                                                                                  <span style=\"color: #800000; text-decoration-color: #800000\">│</span>\n",
       "<span style=\"color: #800000; text-decoration-color: #800000\">│</span>   <span style=\"color: #7f7f7f; text-decoration-color: #7f7f7f\">195 </span><span style=\"color: #7f7f7f; text-decoration-color: #7f7f7f\">│   │   │   │   </span>device=x.device,                                                           <span style=\"color: #800000; text-decoration-color: #800000\">│</span>\n",
       "<span style=\"color: #800000; text-decoration-color: #800000\">│</span>   <span style=\"color: #7f7f7f; text-decoration-color: #7f7f7f\">196 </span><span style=\"color: #7f7f7f; text-decoration-color: #7f7f7f\">│   │   │   </span>)                                                                              <span style=\"color: #800000; text-decoration-color: #800000\">│</span>\n",
       "<span style=\"color: #800000; text-decoration-color: #800000\">│</span>   <span style=\"color: #7f7f7f; text-decoration-color: #7f7f7f\">197 </span><span style=\"color: #7f7f7f; text-decoration-color: #7f7f7f\">│   │   </span>                                                                                   <span style=\"color: #800000; text-decoration-color: #800000\">│</span>\n",
       "<span style=\"color: #800000; text-decoration-color: #800000\">│</span> <span style=\"color: #800000; text-decoration-color: #800000\">❱ </span>198 <span style=\"color: #7f7f7f; text-decoration-color: #7f7f7f\">│   │   </span>q = apply_rope(q, <span style=\"color: #00ffff; text-decoration-color: #00ffff\">self</span>.rope_cache)                                                 <span style=\"color: #800000; text-decoration-color: #800000\">│</span>\n",
       "<span style=\"color: #800000; text-decoration-color: #800000\">│</span>   <span style=\"color: #7f7f7f; text-decoration-color: #7f7f7f\">199 </span><span style=\"color: #7f7f7f; text-decoration-color: #7f7f7f\">│   │   </span>k = apply_rope(k, <span style=\"color: #00ffff; text-decoration-color: #00ffff\">self</span>.rope_cache)                                                 <span style=\"color: #800000; text-decoration-color: #800000\">│</span>\n",
       "<span style=\"color: #800000; text-decoration-color: #800000\">│</span>   <span style=\"color: #7f7f7f; text-decoration-color: #7f7f7f\">200 </span><span style=\"color: #7f7f7f; text-decoration-color: #7f7f7f\">│   │   </span>                                                                                   <span style=\"color: #800000; text-decoration-color: #800000\">│</span>\n",
       "<span style=\"color: #800000; text-decoration-color: #800000\">│</span>   <span style=\"color: #7f7f7f; text-decoration-color: #7f7f7f\">201 </span><span style=\"color: #7f7f7f; text-decoration-color: #7f7f7f\">│   │   </span><span style=\"color: #7f7f7f; text-decoration-color: #7f7f7f\"># causal self-attention; Self-attend: (B, nh, T, hs) x (B, nh, hs, T) -&gt; (B, nh,</span>   <span style=\"color: #800000; text-decoration-color: #800000\">│</span>\n",
       "<span style=\"color: #800000; text-decoration-color: #800000\">│</span>                                                                                                  <span style=\"color: #800000; text-decoration-color: #800000\">│</span>\n",
       "<span style=\"color: #800000; text-decoration-color: #800000\">│</span> <span style=\"color: #bfbf7f; text-decoration-color: #bfbf7f\">/home/andrew/Documents/lit-llama/lit_llama/</span><span style=\"color: #808000; text-decoration-color: #808000; font-weight: bold\">model.py</span>:<span style=\"color: #0000ff; text-decoration-color: #0000ff\">292</span> in <span style=\"color: #00ff00; text-decoration-color: #00ff00\">apply_rope</span>                            <span style=\"color: #800000; text-decoration-color: #800000\">│</span>\n",
       "<span style=\"color: #800000; text-decoration-color: #800000\">│</span>                                                                                                  <span style=\"color: #800000; text-decoration-color: #800000\">│</span>\n",
       "<span style=\"color: #800000; text-decoration-color: #800000\">│</span>   <span style=\"color: #7f7f7f; text-decoration-color: #7f7f7f\">289 </span><span style=\"color: #7f7f7f; text-decoration-color: #7f7f7f\">│   </span><span style=\"color: #7f7f7f; text-decoration-color: #7f7f7f\"># cast because the reference does</span>                                                      <span style=\"color: #800000; text-decoration-color: #800000\">│</span>\n",
       "<span style=\"color: #800000; text-decoration-color: #800000\">│</span>   <span style=\"color: #7f7f7f; text-decoration-color: #7f7f7f\">290 </span><span style=\"color: #7f7f7f; text-decoration-color: #7f7f7f\">│   </span>xshaped = x.float().reshape(*x.shape[:-<span style=\"color: #0000ff; text-decoration-color: #0000ff\">1</span>], -<span style=\"color: #0000ff; text-decoration-color: #0000ff\">1</span>, <span style=\"color: #0000ff; text-decoration-color: #0000ff\">2</span>)                                      <span style=\"color: #800000; text-decoration-color: #800000\">│</span>\n",
       "<span style=\"color: #800000; text-decoration-color: #800000\">│</span>   <span style=\"color: #7f7f7f; text-decoration-color: #7f7f7f\">291 </span><span style=\"color: #7f7f7f; text-decoration-color: #7f7f7f\">│   </span>rope_cache = rope_cache.view(<span style=\"color: #0000ff; text-decoration-color: #0000ff\">1</span>, xshaped.size(<span style=\"color: #0000ff; text-decoration-color: #0000ff\">1</span>), <span style=\"color: #0000ff; text-decoration-color: #0000ff\">1</span>, xshaped.size(<span style=\"color: #0000ff; text-decoration-color: #0000ff\">3</span>), <span style=\"color: #0000ff; text-decoration-color: #0000ff\">2</span>)                <span style=\"color: #800000; text-decoration-color: #800000\">│</span>\n",
       "<span style=\"color: #800000; text-decoration-color: #800000\">│</span> <span style=\"color: #800000; text-decoration-color: #800000\">❱ </span>292 <span style=\"color: #7f7f7f; text-decoration-color: #7f7f7f\">│   </span>x_out2 = torch.stack(                                                                  <span style=\"color: #800000; text-decoration-color: #800000\">│</span>\n",
       "<span style=\"color: #800000; text-decoration-color: #800000\">│</span>   <span style=\"color: #7f7f7f; text-decoration-color: #7f7f7f\">293 </span><span style=\"color: #7f7f7f; text-decoration-color: #7f7f7f\">│   │   </span>[xshaped[..., <span style=\"color: #0000ff; text-decoration-color: #0000ff\">0</span>] * rope_cache[..., <span style=\"color: #0000ff; text-decoration-color: #0000ff\">0</span>] - xshaped[..., <span style=\"color: #0000ff; text-decoration-color: #0000ff\">1</span>] * rope_cache[..., <span style=\"color: #0000ff; text-decoration-color: #0000ff\">1</span>],      <span style=\"color: #800000; text-decoration-color: #800000\">│</span>\n",
       "<span style=\"color: #800000; text-decoration-color: #800000\">│</span>   <span style=\"color: #7f7f7f; text-decoration-color: #7f7f7f\">294 </span><span style=\"color: #7f7f7f; text-decoration-color: #7f7f7f\">│   │    </span>xshaped[..., <span style=\"color: #0000ff; text-decoration-color: #0000ff\">1</span>] * rope_cache[..., <span style=\"color: #0000ff; text-decoration-color: #0000ff\">0</span>] + xshaped[..., <span style=\"color: #0000ff; text-decoration-color: #0000ff\">0</span>] * rope_cache[..., <span style=\"color: #0000ff; text-decoration-color: #0000ff\">1</span>],      <span style=\"color: #800000; text-decoration-color: #800000\">│</span>\n",
       "<span style=\"color: #800000; text-decoration-color: #800000\">│</span>   <span style=\"color: #7f7f7f; text-decoration-color: #7f7f7f\">295 </span><span style=\"color: #7f7f7f; text-decoration-color: #7f7f7f\">│   │   </span>], -<span style=\"color: #0000ff; text-decoration-color: #0000ff\">1</span>)                                                                             <span style=\"color: #800000; text-decoration-color: #800000\">│</span>\n",
       "<span style=\"color: #800000; text-decoration-color: #800000\">╰──────────────────────────────────────────────────────────────────────────────────────────────────╯</span>\n",
       "<span style=\"color: #ff0000; text-decoration-color: #ff0000; font-weight: bold\">KeyboardInterrupt</span>\n",
       "</pre>\n"
      ],
      "text/plain": [
       "\u001b[31m╭─\u001b[0m\u001b[31m──────────────────────────────\u001b[0m\u001b[31m \u001b[0m\u001b[1;31mTraceback \u001b[0m\u001b[1;2;31m(most recent call last)\u001b[0m\u001b[31m \u001b[0m\u001b[31m───────────────────────────────\u001b[0m\u001b[31m─╮\u001b[0m\n",
       "\u001b[31m│\u001b[0m in \u001b[92m<module>\u001b[0m:\u001b[94m23\u001b[0m                                                                                   \u001b[31m│\u001b[0m\n",
       "\u001b[31m│\u001b[0m                                                                                                  \u001b[31m│\u001b[0m\n",
       "\u001b[31m│\u001b[0m   \u001b[2m20 \u001b[0m\u001b[2m│   │   \u001b[0moptimizer.zero_grad()                                                               \u001b[31m│\u001b[0m\n",
       "\u001b[31m│\u001b[0m   \u001b[2m21 \u001b[0m\u001b[2m│   │   \u001b[0m\u001b[94mfor\u001b[0m i \u001b[95min\u001b[0m \u001b[96mrange\u001b[0m(batch_size):                                                         \u001b[31m│\u001b[0m\n",
       "\u001b[31m│\u001b[0m   \u001b[2m22 \u001b[0m\u001b[2m│   │   │   \u001b[0m\u001b[96minput\u001b[0m, target = get_single_example(squad_train, index=batch_indices[i])         \u001b[31m│\u001b[0m\n",
       "\u001b[31m│\u001b[0m \u001b[31m❱ \u001b[0m23 \u001b[2m│   │   │   \u001b[0mllama_output = LLamaModel.forward_embeddings(\u001b[96minput\u001b[0m.type(torch.bfloat16))[\u001b[94m0\u001b[0m]     \u001b[31m│\u001b[0m\n",
       "\u001b[31m│\u001b[0m   \u001b[2m24 \u001b[0m\u001b[2m│   │   │   \u001b[0mloss = loss_fn(llama_output.squeeze().to(fabric.device), target.squeeze().to    \u001b[31m│\u001b[0m\n",
       "\u001b[31m│\u001b[0m   \u001b[2m25 \u001b[0m\u001b[2m│   │   │   \u001b[0mloss.backward()                                                                 \u001b[31m│\u001b[0m\n",
       "\u001b[31m│\u001b[0m   \u001b[2m26 \u001b[0m\u001b[2m│   │   │   \u001b[0mbatch_loss += loss.item()                                                       \u001b[31m│\u001b[0m\n",
       "\u001b[31m│\u001b[0m                                                                                                  \u001b[31m│\u001b[0m\n",
       "\u001b[31m│\u001b[0m \u001b[2;33m/home/andrew/Documents/lit-llama/lit_llama/\u001b[0m\u001b[1;33mmodel.py\u001b[0m:\u001b[94m110\u001b[0m in \u001b[92mforward_embeddings\u001b[0m                    \u001b[31m│\u001b[0m\n",
       "\u001b[31m│\u001b[0m                                                                                                  \u001b[31m│\u001b[0m\n",
       "\u001b[31m│\u001b[0m   \u001b[2m107 \u001b[0m\u001b[2m│   │   │   \u001b[0mx = torch.cat((internal_state_tokens.reshape(\u001b[94m1\u001b[0m,\u001b[94m1\u001b[0m,-\u001b[94m1\u001b[0m).to(embeddings.device),    \u001b[31m│\u001b[0m\n",
       "\u001b[31m│\u001b[0m   \u001b[2m108 \u001b[0m\u001b[2m│   │   \u001b[0m                                                                                   \u001b[31m│\u001b[0m\n",
       "\u001b[31m│\u001b[0m   \u001b[2m109 \u001b[0m\u001b[2m│   │   \u001b[0m\u001b[94mfor\u001b[0m block \u001b[95min\u001b[0m \u001b[96mself\u001b[0m.transformer.h:                                                   \u001b[31m│\u001b[0m\n",
       "\u001b[31m│\u001b[0m \u001b[31m❱ \u001b[0m110 \u001b[2m│   │   │   \u001b[0mx = block(x)                                                                   \u001b[31m│\u001b[0m\n",
       "\u001b[31m│\u001b[0m   \u001b[2m111 \u001b[0m\u001b[2m│   │   \u001b[0mx = \u001b[96mself\u001b[0m.transformer.ln_f(x)                                                       \u001b[31m│\u001b[0m\n",
       "\u001b[31m│\u001b[0m   \u001b[2m112 \u001b[0m\u001b[2m│   │   \u001b[0m                                                                                   \u001b[31m│\u001b[0m\n",
       "\u001b[31m│\u001b[0m   \u001b[2m113 \u001b[0m\u001b[2m│   │   \u001b[0mlogits = \u001b[96mself\u001b[0m.lm_head(x)  \u001b[2m# (b, t, vocab_size)\u001b[0m                                     \u001b[31m│\u001b[0m\n",
       "\u001b[31m│\u001b[0m                                                                                                  \u001b[31m│\u001b[0m\n",
       "\u001b[31m│\u001b[0m \u001b[2;33m/home/andrew/.local/lib/python3.10/site-packages/torch/nn/modules/\u001b[0m\u001b[1;33mmodule.py\u001b[0m:\u001b[94m1501\u001b[0m in \u001b[92m_call_impl\u001b[0m   \u001b[31m│\u001b[0m\n",
       "\u001b[31m│\u001b[0m                                                                                                  \u001b[31m│\u001b[0m\n",
       "\u001b[31m│\u001b[0m   \u001b[2m1498 \u001b[0m\u001b[2m│   │   \u001b[0m\u001b[94mif\u001b[0m \u001b[95mnot\u001b[0m (\u001b[96mself\u001b[0m._backward_hooks \u001b[95mor\u001b[0m \u001b[96mself\u001b[0m._backward_pre_hooks \u001b[95mor\u001b[0m \u001b[96mself\u001b[0m._forward_hooks   \u001b[31m│\u001b[0m\n",
       "\u001b[31m│\u001b[0m   \u001b[2m1499 \u001b[0m\u001b[2m│   │   │   │   \u001b[0m\u001b[95mor\u001b[0m _global_backward_pre_hooks \u001b[95mor\u001b[0m _global_backward_hooks                   \u001b[31m│\u001b[0m\n",
       "\u001b[31m│\u001b[0m   \u001b[2m1500 \u001b[0m\u001b[2m│   │   │   │   \u001b[0m\u001b[95mor\u001b[0m _global_forward_hooks \u001b[95mor\u001b[0m _global_forward_pre_hooks):                   \u001b[31m│\u001b[0m\n",
       "\u001b[31m│\u001b[0m \u001b[31m❱ \u001b[0m1501 \u001b[2m│   │   │   \u001b[0m\u001b[94mreturn\u001b[0m forward_call(*args, **kwargs)                                          \u001b[31m│\u001b[0m\n",
       "\u001b[31m│\u001b[0m   \u001b[2m1502 \u001b[0m\u001b[2m│   │   \u001b[0m\u001b[2m# Do not call functions when jit is used\u001b[0m                                          \u001b[31m│\u001b[0m\n",
       "\u001b[31m│\u001b[0m   \u001b[2m1503 \u001b[0m\u001b[2m│   │   \u001b[0mfull_backward_hooks, non_full_backward_hooks = [], []                             \u001b[31m│\u001b[0m\n",
       "\u001b[31m│\u001b[0m   \u001b[2m1504 \u001b[0m\u001b[2m│   │   \u001b[0mbackward_pre_hooks = []                                                           \u001b[31m│\u001b[0m\n",
       "\u001b[31m│\u001b[0m                                                                                                  \u001b[31m│\u001b[0m\n",
       "\u001b[31m│\u001b[0m \u001b[2;33m/home/andrew/Documents/lit-llama/lit_llama/\u001b[0m\u001b[1;33mmodel.py\u001b[0m:\u001b[94m138\u001b[0m in \u001b[92mforward\u001b[0m                               \u001b[31m│\u001b[0m\n",
       "\u001b[31m│\u001b[0m                                                                                                  \u001b[31m│\u001b[0m\n",
       "\u001b[31m│\u001b[0m   \u001b[2m135 \u001b[0m\u001b[2m│   \u001b[0m                                                                                       \u001b[31m│\u001b[0m\n",
       "\u001b[31m│\u001b[0m   \u001b[2m136 \u001b[0m\u001b[2m│   \u001b[0m                                                                                       \u001b[31m│\u001b[0m\n",
       "\u001b[31m│\u001b[0m   \u001b[2m137 \u001b[0m\u001b[2m│   \u001b[0m\u001b[94mdef\u001b[0m \u001b[92mforward\u001b[0m(\u001b[96mself\u001b[0m, x: torch.Tensor) -> torch.Tensor:                                    \u001b[31m│\u001b[0m\n",
       "\u001b[31m│\u001b[0m \u001b[31m❱ \u001b[0m138 \u001b[2m│   │   \u001b[0mx = x + \u001b[96mself\u001b[0m.attn(\u001b[96mself\u001b[0m.rms_1(x))                                                   \u001b[31m│\u001b[0m\n",
       "\u001b[31m│\u001b[0m   \u001b[2m139 \u001b[0m\u001b[2m│   │   \u001b[0mx = x + \u001b[96mself\u001b[0m.mlp(\u001b[96mself\u001b[0m.rms_2(x))                                                    \u001b[31m│\u001b[0m\n",
       "\u001b[31m│\u001b[0m   \u001b[2m140 \u001b[0m\u001b[2m│   │   \u001b[0m\u001b[94mreturn\u001b[0m x                                                                           \u001b[31m│\u001b[0m\n",
       "\u001b[31m│\u001b[0m   \u001b[2m141 \u001b[0m                                                                                           \u001b[31m│\u001b[0m\n",
       "\u001b[31m│\u001b[0m                                                                                                  \u001b[31m│\u001b[0m\n",
       "\u001b[31m│\u001b[0m \u001b[2;33m/home/andrew/.local/lib/python3.10/site-packages/torch/nn/modules/\u001b[0m\u001b[1;33mmodule.py\u001b[0m:\u001b[94m1501\u001b[0m in \u001b[92m_call_impl\u001b[0m   \u001b[31m│\u001b[0m\n",
       "\u001b[31m│\u001b[0m                                                                                                  \u001b[31m│\u001b[0m\n",
       "\u001b[31m│\u001b[0m   \u001b[2m1498 \u001b[0m\u001b[2m│   │   \u001b[0m\u001b[94mif\u001b[0m \u001b[95mnot\u001b[0m (\u001b[96mself\u001b[0m._backward_hooks \u001b[95mor\u001b[0m \u001b[96mself\u001b[0m._backward_pre_hooks \u001b[95mor\u001b[0m \u001b[96mself\u001b[0m._forward_hooks   \u001b[31m│\u001b[0m\n",
       "\u001b[31m│\u001b[0m   \u001b[2m1499 \u001b[0m\u001b[2m│   │   │   │   \u001b[0m\u001b[95mor\u001b[0m _global_backward_pre_hooks \u001b[95mor\u001b[0m _global_backward_hooks                   \u001b[31m│\u001b[0m\n",
       "\u001b[31m│\u001b[0m   \u001b[2m1500 \u001b[0m\u001b[2m│   │   │   │   \u001b[0m\u001b[95mor\u001b[0m _global_forward_hooks \u001b[95mor\u001b[0m _global_forward_pre_hooks):                   \u001b[31m│\u001b[0m\n",
       "\u001b[31m│\u001b[0m \u001b[31m❱ \u001b[0m1501 \u001b[2m│   │   │   \u001b[0m\u001b[94mreturn\u001b[0m forward_call(*args, **kwargs)                                          \u001b[31m│\u001b[0m\n",
       "\u001b[31m│\u001b[0m   \u001b[2m1502 \u001b[0m\u001b[2m│   │   \u001b[0m\u001b[2m# Do not call functions when jit is used\u001b[0m                                          \u001b[31m│\u001b[0m\n",
       "\u001b[31m│\u001b[0m   \u001b[2m1503 \u001b[0m\u001b[2m│   │   \u001b[0mfull_backward_hooks, non_full_backward_hooks = [], []                             \u001b[31m│\u001b[0m\n",
       "\u001b[31m│\u001b[0m   \u001b[2m1504 \u001b[0m\u001b[2m│   │   \u001b[0mbackward_pre_hooks = []                                                           \u001b[31m│\u001b[0m\n",
       "\u001b[31m│\u001b[0m                                                                                                  \u001b[31m│\u001b[0m\n",
       "\u001b[31m│\u001b[0m \u001b[2;33m/home/andrew/Documents/lit-llama/lit_llama/\u001b[0m\u001b[1;33mmodel.py\u001b[0m:\u001b[94m198\u001b[0m in \u001b[92mforward\u001b[0m                               \u001b[31m│\u001b[0m\n",
       "\u001b[31m│\u001b[0m                                                                                                  \u001b[31m│\u001b[0m\n",
       "\u001b[31m│\u001b[0m   \u001b[2m195 \u001b[0m\u001b[2m│   │   │   │   \u001b[0mdevice=x.device,                                                           \u001b[31m│\u001b[0m\n",
       "\u001b[31m│\u001b[0m   \u001b[2m196 \u001b[0m\u001b[2m│   │   │   \u001b[0m)                                                                              \u001b[31m│\u001b[0m\n",
       "\u001b[31m│\u001b[0m   \u001b[2m197 \u001b[0m\u001b[2m│   │   \u001b[0m                                                                                   \u001b[31m│\u001b[0m\n",
       "\u001b[31m│\u001b[0m \u001b[31m❱ \u001b[0m198 \u001b[2m│   │   \u001b[0mq = apply_rope(q, \u001b[96mself\u001b[0m.rope_cache)                                                 \u001b[31m│\u001b[0m\n",
       "\u001b[31m│\u001b[0m   \u001b[2m199 \u001b[0m\u001b[2m│   │   \u001b[0mk = apply_rope(k, \u001b[96mself\u001b[0m.rope_cache)                                                 \u001b[31m│\u001b[0m\n",
       "\u001b[31m│\u001b[0m   \u001b[2m200 \u001b[0m\u001b[2m│   │   \u001b[0m                                                                                   \u001b[31m│\u001b[0m\n",
       "\u001b[31m│\u001b[0m   \u001b[2m201 \u001b[0m\u001b[2m│   │   \u001b[0m\u001b[2m# causal self-attention; Self-attend: (B, nh, T, hs) x (B, nh, hs, T) -> (B, nh,\u001b[0m   \u001b[31m│\u001b[0m\n",
       "\u001b[31m│\u001b[0m                                                                                                  \u001b[31m│\u001b[0m\n",
       "\u001b[31m│\u001b[0m \u001b[2;33m/home/andrew/Documents/lit-llama/lit_llama/\u001b[0m\u001b[1;33mmodel.py\u001b[0m:\u001b[94m292\u001b[0m in \u001b[92mapply_rope\u001b[0m                            \u001b[31m│\u001b[0m\n",
       "\u001b[31m│\u001b[0m                                                                                                  \u001b[31m│\u001b[0m\n",
       "\u001b[31m│\u001b[0m   \u001b[2m289 \u001b[0m\u001b[2m│   \u001b[0m\u001b[2m# cast because the reference does\u001b[0m                                                      \u001b[31m│\u001b[0m\n",
       "\u001b[31m│\u001b[0m   \u001b[2m290 \u001b[0m\u001b[2m│   \u001b[0mxshaped = x.float().reshape(*x.shape[:-\u001b[94m1\u001b[0m], -\u001b[94m1\u001b[0m, \u001b[94m2\u001b[0m)                                      \u001b[31m│\u001b[0m\n",
       "\u001b[31m│\u001b[0m   \u001b[2m291 \u001b[0m\u001b[2m│   \u001b[0mrope_cache = rope_cache.view(\u001b[94m1\u001b[0m, xshaped.size(\u001b[94m1\u001b[0m), \u001b[94m1\u001b[0m, xshaped.size(\u001b[94m3\u001b[0m), \u001b[94m2\u001b[0m)                \u001b[31m│\u001b[0m\n",
       "\u001b[31m│\u001b[0m \u001b[31m❱ \u001b[0m292 \u001b[2m│   \u001b[0mx_out2 = torch.stack(                                                                  \u001b[31m│\u001b[0m\n",
       "\u001b[31m│\u001b[0m   \u001b[2m293 \u001b[0m\u001b[2m│   │   \u001b[0m[xshaped[..., \u001b[94m0\u001b[0m] * rope_cache[..., \u001b[94m0\u001b[0m] - xshaped[..., \u001b[94m1\u001b[0m] * rope_cache[..., \u001b[94m1\u001b[0m],      \u001b[31m│\u001b[0m\n",
       "\u001b[31m│\u001b[0m   \u001b[2m294 \u001b[0m\u001b[2m│   │    \u001b[0mxshaped[..., \u001b[94m1\u001b[0m] * rope_cache[..., \u001b[94m0\u001b[0m] + xshaped[..., \u001b[94m0\u001b[0m] * rope_cache[..., \u001b[94m1\u001b[0m],      \u001b[31m│\u001b[0m\n",
       "\u001b[31m│\u001b[0m   \u001b[2m295 \u001b[0m\u001b[2m│   │   \u001b[0m], -\u001b[94m1\u001b[0m)                                                                             \u001b[31m│\u001b[0m\n",
       "\u001b[31m╰──────────────────────────────────────────────────────────────────────────────────────────────────╯\u001b[0m\n",
       "\u001b[1;91mKeyboardInterrupt\u001b[0m\n"
      ]
     },
     "metadata": {},
     "output_type": "display_data"
    }
   ],
   "source": [
    "loss_fn = nn.CrossEntropyLoss()\n",
    "for param in LLamaModel.parameters():\n",
    "    param.requires_grad=False\n",
    "\n",
    "batch_size=32\n",
    "\n",
    "LLamaModel.eval()\n",
    "for epoch in range(1):\n",
    "\n",
    "    indices = list(range(len(squad_train)))\n",
    "    random.shuffle(indices)\n",
    "    epoch_train_loss = 0\n",
    "\n",
    "    while(len(indices) >= batch_size):\n",
    "        batch_indices = indices[:batch_size]\n",
    "        indices = indices[batch_size:]\n",
    "        batch_loss = 0\n",
    "\n",
    "        IST_generator.train()\n",
    "        optimizer.zero_grad()\n",
    "        for i in range(batch_size):\n",
    "            input, target = get_single_example(squad_train, index=batch_indices[i])\n",
    "            llama_output = LLamaModel.forward_embeddings(input.type(torch.bfloat16))[0]\n",
    "            loss = loss_fn(llama_output.squeeze().to(fabric.device), target.squeeze().to(fabric.device))\n",
    "            loss.backward()\n",
    "            batch_loss += loss.item()\n",
    "            del llama_output\n",
    "\n",
    "        batch_loss /= batch_size\n",
    "\n",
    "        optimizer.step()\n",
    "        train_losses.append(batch_loss)\n",
    "        epoch_train_loss += batch_loss\n",
    "\n",
    "        # validation:\n",
    "        IST_generator.eval()\n",
    "        with torch.no_grad():\n",
    "            batch_loss = 0\n",
    "            for i in range(batch_size):\n",
    "                input, target = get_single_example(squad_test)\n",
    "                llama_output = LLamaModel.forward_embeddings(input.type(torch.bfloat16))[0]\n",
    "                loss = loss_fn(llama_output.squeeze().to(fabric.device), target.squeeze().to(fabric.device))\n",
    "                del llama_output\n",
    "                batch_loss += loss.item()\n",
    "            batch_loss /= batch_size\n",
    "\n",
    "            test_losses.append(batch_loss)\n",
    "            \n",
    "        print(f'epoch {epoch}, train loss = {train_losses[-1]}, validation loss={test_losses[-1]}')\n",
    "        wandb.log({'batch train loss':train_losses[-1], 'batch validation loss':test_losses[-1]})\n",
    "\n",
    "    # perform validation on entire validation set\n",
    "    with torch.no_grad():\n",
    "        batch_loss = 0\n",
    "        for i in range(1000):\n",
    "            input, target = get_single_example(squad_test, i)\n",
    "            llama_output = LLamaModel.forward_embeddings(input.type(torch.bfloat16))[0]\n",
    "            loss = loss_fn(llama_output.squeeze().to(fabric.device), target.squeeze().to(fabric.device))\n",
    "            del llama_output\n",
    "            batch_loss += loss.item()\n",
    "        batch_loss /= 1000\n",
    "\n",
    "    # wandb.log({'epoch train loss':epoch_train_loss, 'epoch validation loss':batch_loss})\n",
    "\n",
    "\n",
    "        "
   ]
  },
  {
   "cell_type": "code",
   "execution_count": null,
   "metadata": {},
   "outputs": [
    {
     "data": {
      "image/png": "[encoded data removed]",
      "text/plain": [
       "<Figure size 640x480 with 1 Axes>"
      ]
     },
     "metadata": {},
     "output_type": "display_data"
    }
   ],
   "source": [
    "plt.plot(train_losses[:252], label='normal')\n",
    "plt.plot(train_losses[252:], label='instruction and input inverted')\n",
    "plt.legend()\n",
    "plt.show()\n"
   ]
  },
  {
   "cell_type": "code",
   "execution_count": null,
   "metadata": {},
   "outputs": [],
   "source": [
    "def get_IST(string):\n",
    "    tokens = tokenizer.encode(string).unsqueeze(0).type(torch.LongTensor).to(fabric.device)\n",
    "    x = LLamaModel(tokens)[1]\n",
    "    x = IST_generator(x)\n",
    "    return x[:,-1,:]"
   ]
  },
  {
   "cell_type": "code",
   "execution_count": null,
   "metadata": {},
   "outputs": [],
   "source": [
    "def generate(model, tokenizer, prompt, IST=None, max_new_tokens=200):\n",
    "  \n",
    "    generated = ''\n",
    "    tokenized_input = tokenizer.encode(prompt).to(fabric.device)\n",
    "    with torch.no_grad():\n",
    "\n",
    "        for _ in range(max_new_tokens):\n",
    "            last_logits = model(tokenized_input.unsqueeze(0), IST.type(torch.bfloat16))[0][:,-1,:]\n",
    "            new_token = torch.argmax(last_logits, dim=1)\n",
    "            if(new_token == 2 and _ > 0): #eos\n",
    "                break\n",
    "            generated += tokenizer.decode(new_token)\n",
    "            tokenized_input = torch.cat([tokenized_input, new_token])\n",
    "\n",
    "    return tokenized_input, tokenizer.decode(tokenized_input)[len(prompt)+1:]"
   ]
  },
  {
   "cell_type": "code",
   "execution_count": null,
   "metadata": {},
   "outputs": [],
   "source": [
    "out = generate(LLamaModel, tokenizer, prompt=\"Country: Egypt\", IST=get_IST(\"Write a story about a young boy visiting a foreign country.\"))"
   ]
  },
  {
   "cell_type": "code",
   "execution_count": null,
   "metadata": {},
   "outputs": [],
   "source": [
    "out = generate(LLamaModel, tokenizer, prompt=\"Create a news headline for a story about a celebrity who just released a book.\", IST=get_IST(\"Tom Hanks\"))"
   ]
  },
  {
   "cell_type": "code",
   "execution_count": null,
   "metadata": {},
   "outputs": [
    {
     "data": {
      "text/plain": [
       "'\"Celebrity Author Releases New Book\"\\n\"Celebrity Author Releases New Book\"\\n\"Celebrity Author Releases New Book\"\\n\"Celebrity Author Releases New Book\"\\n\"Celebrity Author Releases New Book\"\\n\"Celebrity Author Releases New Book\"\\n\"Celebrity Author Releases New Book\"\\n\"Celebrity Author Releases New Book\"\\n\"Celebrity Author Releases New Book\"\\n\"Celebrity Author Releases New Book\"\\n\"Celebrity Author Releases New Book\"\\n\"Celebrity Author Releases New Book\"\\n\"Celebrity Author Releases New Book\"\\n\"Celebrity Author Releases New Book\"\\n\"Celebrity Author Releases New Book\"\\n\"Celebrity Author Releases New Book\"\\n\"Celebrity Author Releases'"
      ]
     },
     "execution_count": 121,
     "metadata": {},
     "output_type": "execute_result"
    }
   ],
   "source": [
    "out[1]"
   ]
  },
  {
   "cell_type": "code",
   "execution_count": null,
   "metadata": {},
   "outputs": [
    {
     "data": {
      "text/html": [
       "<pre style=\"white-space:pre;overflow-x:auto;line-height:normal;font-family:Menlo,'DejaVu Sans Mono',consolas,'Courier New',monospace\"><span style=\"color: #800000; text-decoration-color: #800000\">╭─────────────────────────────── </span><span style=\"color: #800000; text-decoration-color: #800000; font-weight: bold\">Traceback </span><span style=\"color: #bf7f7f; text-decoration-color: #bf7f7f; font-weight: bold\">(most recent call last)</span><span style=\"color: #800000; text-decoration-color: #800000\"> ────────────────────────────────╮</span>\n",
       "<span style=\"color: #800000; text-decoration-color: #800000\">│</span> in <span style=\"color: #00ff00; text-decoration-color: #00ff00\">&lt;module&gt;</span>:<span style=\"color: #0000ff; text-decoration-color: #0000ff\">1</span>                                                                                    <span style=\"color: #800000; text-decoration-color: #800000\">│</span>\n",
       "<span style=\"color: #800000; text-decoration-color: #800000\">│</span>                                                                                                  <span style=\"color: #800000; text-decoration-color: #800000\">│</span>\n",
       "<span style=\"color: #800000; text-decoration-color: #800000\">│</span> <span style=\"color: #800000; text-decoration-color: #800000\">❱ </span>1 out = generate(LLamaModel, tokenizer, squad[<span style=\"color: #808000; text-decoration-color: #808000\">'train'</span>][<span style=\"color: #0000ff; text-decoration-color: #0000ff\">0</span>][<span style=\"color: #808000; text-decoration-color: #808000\">'question'</span>], IST=get_IST(squad[<span style=\"color: #808000; text-decoration-color: #808000\">'</span>     <span style=\"color: #800000; text-decoration-color: #800000\">│</span>\n",
       "<span style=\"color: #800000; text-decoration-color: #800000\">│</span>   <span style=\"color: #7f7f7f; text-decoration-color: #7f7f7f\">2 </span>                                                                                             <span style=\"color: #800000; text-decoration-color: #800000\">│</span>\n",
       "<span style=\"color: #800000; text-decoration-color: #800000\">╰──────────────────────────────────────────────────────────────────────────────────────────────────╯</span>\n",
       "<span style=\"color: #ff0000; text-decoration-color: #ff0000; font-weight: bold\">NameError: </span>name <span style=\"color: #008000; text-decoration-color: #008000\">'squad'</span> is not defined\n",
       "</pre>\n"
      ],
      "text/plain": [
       "\u001b[31m╭─\u001b[0m\u001b[31m──────────────────────────────\u001b[0m\u001b[31m \u001b[0m\u001b[1;31mTraceback \u001b[0m\u001b[1;2;31m(most recent call last)\u001b[0m\u001b[31m \u001b[0m\u001b[31m───────────────────────────────\u001b[0m\u001b[31m─╮\u001b[0m\n",
       "\u001b[31m│\u001b[0m in \u001b[92m<module>\u001b[0m:\u001b[94m1\u001b[0m                                                                                    \u001b[31m│\u001b[0m\n",
       "\u001b[31m│\u001b[0m                                                                                                  \u001b[31m│\u001b[0m\n",
       "\u001b[31m│\u001b[0m \u001b[31m❱ \u001b[0m1 out = generate(LLamaModel, tokenizer, squad[\u001b[33m'\u001b[0m\u001b[33mtrain\u001b[0m\u001b[33m'\u001b[0m][\u001b[94m0\u001b[0m][\u001b[33m'\u001b[0m\u001b[33mquestion\u001b[0m\u001b[33m'\u001b[0m], IST=get_IST(squad[\u001b[33m'\u001b[0m     \u001b[31m│\u001b[0m\n",
       "\u001b[31m│\u001b[0m   \u001b[2m2 \u001b[0m                                                                                             \u001b[31m│\u001b[0m\n",
       "\u001b[31m╰──────────────────────────────────────────────────────────────────────────────────────────────────╯\u001b[0m\n",
       "\u001b[1;91mNameError: \u001b[0mname \u001b[32m'squad'\u001b[0m is not defined\n"
      ]
     },
     "metadata": {},
     "output_type": "display_data"
    }
   ],
   "source": [
    "out = generate(LLamaModel, tokenizer, squad['train'][0]['question'], IST=get_IST(squad['train'][0]['context']))"
   ]
  },
  {
   "cell_type": "code",
   "execution_count": null,
   "metadata": {},
   "outputs": [
    {
     "name": "stderr",
     "output_type": "stream",
     "text": [
      "Found cached dataset squad (/home/andrew/.cache/huggingface/datasets/squad/plain_text/1.0.0/d6ec3ceb99ca480ce37cdd35555d6cb2511d223b9150cce08a837ef62ffea453)\n"
     ]
    }
   ],
   "source": [
    "squad = load_dataset(\"squad\", split=\"train[:5000]\")\n",
    "squad = squad.train_test_split(test_size=0.2)\n"
   ]
  },
  {
   "cell_type": "code",
   "execution_count": null,
   "metadata": {},
   "outputs": [
    {
     "data": {
      "text/plain": [
       "{'instruction': 'Give three tips for staying healthy.',\n",
       " 'input': ' ',\n",
       " 'output': '1. Eat a balanced and nutritious diet: Make sure your meals are inclusive of a variety of fruits and vegetables, lean protein, whole grains, and healthy fats. This helps to provide your body with the essential nutrients to function at its best and can help prevent chronic diseases.\\n\\n2. Engage in regular physical activity: Exercise is crucial for maintaining strong bones, muscles, and cardiovascular health. Aim for at least 150 minutes of moderate aerobic exercise or 75 minutes of vigorous exercise each week.\\n\\n3. Get enough sleep: Getting enough quality sleep is crucial for physical and mental well-being. It helps to regulate mood, improve cognitive function, and supports healthy growth and immune function. Aim for 7-9 hours of sleep each night.'}"
      ]
     },
     "execution_count": 124,
     "metadata": {},
     "output_type": "execute_result"
    }
   ],
   "source": [
    "alpaca_json[0]"
   ]
  },
  {
   "cell_type": "code",
   "execution_count": null,
   "metadata": {},
   "outputs": [
    {
     "data": {
      "text/plain": [
       "{'id': '56bed07e3aeaaa14008c94a9',\n",
       " 'title': 'Beyoncé',\n",
       " 'context': \"Beyoncé has worked with Pepsi since 2002, and in 2004 appeared in a Gladiator-themed commercial with Britney Spears, Pink, and Enrique Iglesias. In 2012, Beyoncé signed a $50 million deal to endorse Pepsi. The Center for Science in the Public Interest (CSPINET) wrote Beyoncé an open letter asking her to reconsider the deal because of the unhealthiness of the product and to donate the proceeds to a medical organisation. Nevertheless, NetBase found that Beyoncé's campaign was the most talked about endorsement in April 2013, with a 70 per cent positive audience response to the commercial and print ads.\",\n",
       " 'question': 'Which soda company has Beyonce partnered with since 2002?',\n",
       " 'answers': {'text': ['Pepsi'], 'answer_start': [24]}}"
      ]
     },
     "execution_count": 123,
     "metadata": {},
     "output_type": "execute_result"
    }
   ],
   "source": [
    "squad['train'][10]"
   ]
  },
  {
   "cell_type": "code",
   "execution_count": null,
   "metadata": {},
   "outputs": [
    {
     "data": {
      "text/plain": [
       "<All keys matched successfully>"
      ]
     },
     "execution_count": 127,
     "metadata": {},
     "output_type": "execute_result"
    }
   ],
   "source": [
    "IST_generator.load_state_dict(torch.load(\"new_instructtunedweights_4.pt\"))"
   ]
  },
  {
   "cell_type": "code",
   "execution_count": null,
   "metadata": {},
   "outputs": [
    {
     "data": {
      "text/plain": [
       "1"
      ]
     },
     "execution_count": 142,
     "metadata": {},
     "output_type": "execute_result"
    }
   ],
   "source": [
    "squad_test[10]['input'].shape[0]\n",
    "\n"
   ]
  },
  {
   "cell_type": "code",
   "execution_count": null,
   "metadata": {},
   "outputs": [
    {
     "name": "stdout",
     "output_type": "stream",
     "text": [
      "Empty: 855.9619140625\n",
      " Nonempty: 761.69921875\n"
     ]
    }
   ],
   "source": [
    "with torch.no_grad():\n",
    "    empty_loss = 0\n",
    "    nonempty_loss = 0\n",
    "\n",
    "    for i in range(1000):\n",
    "        input, target = get_single_example(squad_test, i)\n",
    "        llama_output = LLamaModel.forward_embeddings(input.type(torch.bfloat16))[0]\n",
    "        loss = loss_fn(llama_output.squeeze().to(fabric.device), target.squeeze().to(fabric.device))\n",
    "\n",
    "        if(squad_test[i]['input'].shape[0] == 1):\n",
    "            empty_loss += loss.item()\n",
    "        else:\n",
    "            nonempty_loss += loss.item()\n",
    "\n",
    "print(f'Empty: {empty_loss}\\nNonempty: {nonempty_loss}')    "
   ]
  },
  {
   "cell_type": "code",
   "execution_count": null,
   "metadata": {},
   "outputs": [
    {
     "data": {
      "text/plain": [
       "46584"
      ]
     },
     "execution_count": 144,
     "metadata": {},
     "output_type": "execute_result"
    }
   ],
   "source": [
    "len(squad_train)"
   ]
  },
  {
   "cell_type": "code",
   "execution_count": null,
   "metadata": {},
   "outputs": [
    {
     "name": "stdout",
     "output_type": "stream",
     "text": [
      "1\n"
     ]
    }
   ],
   "source": [
    "if(squad_train[i]['input'][0] == 259 and squad_train[i]['input'].shape[0] == 1):\n",
    "    print(1)"
   ]
  },
  {
   "cell_type": "code",
   "execution_count": null,
   "metadata": {},
   "outputs": [
    {
     "name": "stdout",
     "output_type": "stream",
     "text": [
      "Empty: 816.0869140625\n",
      "Nonempty: 976.6796875\n"
     ]
    }
   ],
   "source": [
    "with torch.no_grad():\n",
    "    empty_loss = 0\n",
    "    nonempty_loss = 0\n",
    "\n",
    "    for i in range(1000):\n",
    "        input, target = get_single_example(squad_train, i)\n",
    "        llama_output = LLamaModel.forward_embeddings(input.type(torch.bfloat16))[0]\n",
    "        loss = loss_fn(llama_output.squeeze().to(fabric.device), target.squeeze().to(fabric.device))\n",
    "\n",
    "        if(squad_train[i]['input'][0] == 259 and squad_train[i]['input'].shape[0] == 1):\n",
    "            empty_loss += loss.item()\n",
    "        else:\n",
    "            nonempty_loss += loss.item()\n",
    "\n",
    "print(f'Empty: {empty_loss}\\nNonempty: {nonempty_loss}')    "
   ]
  },
  {
   "cell_type": "code",
   "execution_count": null,
   "metadata": {},
   "outputs": [
    {
     "data": {
      "text/plain": [
       "'Wojciech Żywny'"
      ]
     },
     "execution_count": 116,
     "metadata": {},
     "output_type": "execute_result"
    }
   ],
   "source": [
    "out[1]"
   ]
  }
 ],
 "metadata": {
  "kernelspec": {
   "display_name": "Python 3 (ipykernel)",
   "language": "python",
   "name": "python3"
  },
  "language_info": {
   "codemirror_mode": {
    "name": "ipython",
    "version": 3
   },
   "file_extension": ".py",
   "mimetype": "text/x-python",
   "name": "python",
   "nbconvert_exporter": "python",
   "pygments_lexer": "ipython3",
   "version": "3.10.6"
  }
 },
 "nbformat": 4,
 "nbformat_minor": 4
}

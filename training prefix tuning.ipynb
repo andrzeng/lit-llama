{
 "cells": [
  {
   "cell_type": "code",
   "execution_count": 1,
   "metadata": {
    "tags": []
   },
   "outputs": [
    {
     "name": "stderr",
     "output_type": "stream",
     "text": [
      "/home/andrew/.local/lib/python3.10/site-packages/tqdm/auto.py:21: TqdmWarning: IProgress not found. Please update jupyter and ipywidgets. See https://ipywidgets.readthedocs.io/en/stable/user_install.html\n",
      "  from .autonotebook import tqdm as notebook_tqdm\n",
      "/usr/lib/python3/dist-packages/pkg_resources/__init__.py:116: PkgResourcesDeprecationWarning: 1.1build1 is an invalid version and will not be supported in a future release\n",
      "  warnings.warn(\n",
      "/usr/lib/python3/dist-packages/pkg_resources/__init__.py:116: PkgResourcesDeprecationWarning: 0.1.43ubuntu1 is an invalid version and will not be supported in a future release\n",
      "  warnings.warn(\n"
     ]
    }
   ],
   "source": [
    "\n",
    "from pathlib import Path\n",
    "import matplotlib.pyplot as plt\n",
    "import lightning as L\n",
    "import torch\n",
    "import torch.nn as nn\n",
    "from lit_llama import model\n",
    "import random\n",
    "from lit_llama import LLaMA, Tokenizer\n",
    "from lit_llama.utils import EmptyInitOnDevice, lazy_load, llama_model_lookup"
   ]
  },
  {
   "cell_type": "code",
   "execution_count": 2,
   "metadata": {
    "tags": []
   },
   "outputs": [
    {
     "name": "stderr",
     "output_type": "stream",
     "text": [
      "/usr/lib/python3/dist-packages/pkg_resources/__init__.py:116: PkgResourcesDeprecationWarning: 1.1build1 is an invalid version and will not be supported in a future release\n",
      "  warnings.warn(\n",
      "/usr/lib/python3/dist-packages/pkg_resources/__init__.py:116: PkgResourcesDeprecationWarning: 0.1.43ubuntu1 is an invalid version and will not be supported in a future release\n",
      "  warnings.warn(\n"
     ]
    }
   ],
   "source": [
    "fabric = L.Fabric(devices=1)\n",
    "tokenizer_path: Path = Path(\"checkpoints/lit-llama/tokenizer.model\")\n",
    "tokenizer = Tokenizer(tokenizer_path)"
   ]
  },
  {
   "cell_type": "code",
   "execution_count": 186,
   "metadata": {
    "tags": []
   },
   "outputs": [],
   "source": [
    "import json\n",
    "with open('datasets/alpaca_data_cleaned.json') as f:\n",
    "    alpaca_json = json.load(f)\n",
    "\n",
    "# Create tokenized j\n",
    "alpaca_json_tokens = []\n",
    "\n",
    "for item in alpaca_json:\n",
    "    alpaca_json_tokens.append(\n",
    "        {\n",
    "            'instruction': tokenizer.encode(item['instruction'], bos=False, eos=False, device=fabric.device),\n",
    "            'input': tokenizer.encode(item['input'], bos=False, eos=False, device=fabric.device),\n",
    "            'output':tokenizer.encode(item['output'], bos=False, eos=False, device=fabric.device)\n",
    "        }\n",
    "    )"
   ]
  },
  {
   "cell_type": "code",
   "execution_count": 3,
   "metadata": {
    "tags": []
   },
   "outputs": [],
   "source": [
    "def get_batch(batch_size=10):\n",
    "    batch_indices = random.sample(range(len(alpaca_json_tokens)), k=batch_size)\n",
    "    \n",
    "    \n",
    "    # IST tokens\n",
    "    IST_tokens = []\n",
    "    for index in batch_indices:\n",
    "        llama_input = torch.cat([alpaca_json_tokens[index]['instruction'], alpaca_json_tokens[index]['input']]).unsqueeze(0)\n",
    "        IST_tokens.append(IST_generator(LLamaModel(llama_input)[1])[:,-1,:])\n",
    "\n",
    "    # get shortest\n",
    "    shortest_output_len = 1000\n",
    "    for item in batch_indices:\n",
    "        if(len(alpaca_json_tokens[item]['output']) < shortest_output_len):\n",
    "            shortest_output_len = len(alpaca_json_tokens[item]['output'])\n",
    "\n",
    "\n",
    "    length = random.randint(0,shortest_output_len-1)\n",
    "    inputs = []\n",
    "    targets = []\n",
    "\n",
    "    for item in batch_indices:\n",
    "        inputs.append(alpaca_json_tokens[item]['output'][:length])\n",
    "        targets.append(alpaca_json_tokens[item]['output'][:length+1])\n",
    "    \n",
    "    return torch.stack(inputs), torch.stack(targets), torch.stack(IST_tokens)\n"
   ]
  },
  {
   "cell_type": "code",
   "execution_count": 4,
   "metadata": {
    "tags": []
   },
   "outputs": [],
   "source": [
    "checkpoint_path: Path = Path(\"checkpoints/lit-llama/7B/lit-llama.pth\")\n",
    "tokenizer_path: Path = Path(\"checkpoints/lit-llama/tokenizer.model\")\n",
    "\n",
    "\n",
    "def load_LLaMA(checkpoint_path):\n",
    "    with lazy_load(checkpoint_path) as checkpoint:\n",
    "        name = llama_model_lookup(checkpoint)\n",
    "\n",
    "        with EmptyInitOnDevice(\n",
    "                device=fabric.device, dtype=dtype, quantization_mode=None # We won't quantize the weights\n",
    "        ):\n",
    "            model = LLaMA.from_name(name)\n",
    "\n",
    "        model.load_state_dict(checkpoint)\n",
    "    return model"
   ]
  },
  {
   "cell_type": "code",
   "execution_count": 6,
   "metadata": {
    "tags": []
   },
   "outputs": [
    {
     "name": "stdout",
     "output_type": "stream",
     "text": [
      "Loading models...\n",
      "Finished loading the first model\n",
      "Finished loading models\n"
     ]
    }
   ],
   "source": [
    "\n",
    "dtype = torch.bfloat16 if fabric.device.type == \"cuda\" and torch.cuda.is_bf16_supported() else torch.float32\n",
    "\n",
    "LLaMA_config = model.LLaMAConfig.from_name('7B')\n",
    "print('Loading models...')\n",
    "# Load the LLaMa model and the IST generator (also a LLaMA model)\n",
    "LLamaModel = load_LLaMA(checkpoint_path).to(fabric.device)\n",
    "#LLamaModel = LLaMA(LLaMA_config)\n",
    "print('Finished loading the first model')\n",
    "print('Finished loading models')\n",
    "tokenizer = Tokenizer(tokenizer_path)\n",
    "\n",
    "IST_schemes = ['vanilla', 'last 4', '2nd to last', 'all layers']\n",
    "scheme_losses = {}\n",
    "\n",
    "IST_generator = model.Block(LLaMA_config)\n",
    "\n",
    "loss_fn = nn.CrossEntropyLoss()\n",
    "optimizer = torch.optim.Adam(IST_generator.parameters(), lr=1e-4)\n",
    "IST_generator = IST_generator.to(fabric.device)"
   ]
  },
  {
   "cell_type": "code",
   "execution_count": null,
   "metadata": {},
   "outputs": [],
   "source": [
    "class prefix_tuner(nn.Module):\n",
    "    "
   ]
  },
  {
   "cell_type": "code",
   "execution_count": 139,
   "metadata": {},
   "outputs": [
    {
     "data": {
      "text/plain": [
       "<All keys matched successfully>"
      ]
     },
     "execution_count": 139,
     "metadata": {},
     "output_type": "execute_result"
    }
   ],
   "source": [
    "IST_generator.load_state_dict(torch.load('weights.pt'))\n"
   ]
  },
  {
   "cell_type": "code",
   "execution_count": 143,
   "metadata": {},
   "outputs": [],
   "source": [
    "IST_generator = IST_generator.to(fabric.device)"
   ]
  },
  {
   "cell_type": "code",
   "execution_count": 7,
   "metadata": {},
   "outputs": [],
   "source": [
    "for param in LLamaModel.parameters():\n",
    "    param.requires_grad=False"
   ]
  },
  {
   "cell_type": "code",
   "execution_count": 140,
   "metadata": {},
   "outputs": [],
   "source": [
    "losses = []"
   ]
  },
  {
   "cell_type": "code",
   "execution_count": 160,
   "metadata": {},
   "outputs": [],
   "source": [
    "optimizer = torch.optim.Adam(IST_generator.parameters(), lr=1e-4)"
   ]
  },
  {
   "cell_type": "code",
   "execution_count": 203,
   "metadata": {
    "tags": []
   },
   "outputs": [
    {
     "name": "stdout",
     "output_type": "stream",
     "text": [
      "epoch0, loss: 0.73828125\n",
      "epoch1, loss: 1.5078125\n",
      "epoch2, loss: 1.2109375\n",
      "epoch3, loss: 1.1953125\n",
      "epoch4, loss: 1.7265625\n",
      "epoch5, loss: 1.578125\n",
      "epoch6, loss: 1.3828125\n",
      "epoch7, loss: 1.3828125\n",
      "epoch8, loss: 0.890625\n",
      "epoch9, loss: 1.375\n",
      "epoch10, loss: 1.296875\n",
      "epoch11, loss: 1.6484375\n",
      "epoch12, loss: 1.1484375\n",
      "epoch13, loss: 1.6484375\n",
      "epoch14, loss: 1.515625\n",
      "epoch15, loss: 1.03125\n",
      "epoch16, loss: 1.84375\n",
      "epoch17, loss: 1.2578125\n",
      "epoch18, loss: 1.4609375\n",
      "epoch19, loss: 1.6640625\n",
      "epoch20, loss: 1.546875\n",
      "epoch21, loss: 1.171875\n",
      "epoch22, loss: 1.265625\n",
      "epoch23, loss: 1.59375\n",
      "epoch24, loss: 1.3046875\n",
      "epoch25, loss: 1.3515625\n",
      "epoch26, loss: 1.03125\n",
      "epoch27, loss: 1.1796875\n",
      "epoch28, loss: 1.703125\n",
      "epoch29, loss: 1.1953125\n",
      "epoch30, loss: 1.0703125\n",
      "epoch31, loss: 1.5\n",
      "epoch32, loss: 1.7109375\n",
      "epoch33, loss: 1.4765625\n",
      "epoch34, loss: 1.2421875\n",
      "epoch35, loss: 1.609375\n",
      "epoch36, loss: 1.484375\n",
      "epoch37, loss: 1.0703125\n",
      "epoch38, loss: 1.5078125\n",
      "epoch39, loss: 1.4453125\n",
      "epoch40, loss: 1.71875\n",
      "epoch41, loss: 0.78515625\n",
      "epoch42, loss: 1.078125\n",
      "epoch43, loss: 1.4765625\n",
      "epoch44, loss: 1.265625\n",
      "epoch45, loss: 0.98046875\n",
      "epoch46, loss: 1.3671875\n",
      "epoch47, loss: 1.4453125\n",
      "epoch48, loss: 1.4296875\n",
      "epoch49, loss: 1.6953125\n",
      "epoch50, loss: 1.4140625\n",
      "epoch51, loss: 0.65625\n",
      "epoch52, loss: 0.96484375\n",
      "epoch53, loss: 0.8046875\n",
      "epoch54, loss: 1.0078125\n",
      "epoch55, loss: 1.515625\n",
      "epoch56, loss: 1.2265625\n",
      "epoch57, loss: 1.8125\n",
      "epoch58, loss: 1.34375\n",
      "epoch59, loss: 1.3125\n",
      "epoch60, loss: 1.4921875\n",
      "epoch61, loss: 1.875\n",
      "epoch62, loss: 1.1171875\n",
      "epoch63, loss: 1.4140625\n",
      "epoch64, loss: 1.5078125\n",
      "epoch65, loss: 1.140625\n",
      "epoch66, loss: 1.4453125\n",
      "epoch67, loss: 1.5703125\n",
      "epoch68, loss: 0.90234375\n",
      "epoch69, loss: 1.3203125\n",
      "epoch70, loss: 1.546875\n",
      "epoch71, loss: 0.98046875\n",
      "epoch72, loss: 0.96484375\n",
      "epoch73, loss: 1.2265625\n",
      "epoch74, loss: 0.953125\n",
      "epoch75, loss: 1.7421875\n",
      "epoch76, loss: 1.390625\n",
      "epoch77, loss: 1.1171875\n",
      "epoch78, loss: 1.5625\n",
      "epoch79, loss: 1.265625\n",
      "epoch80, loss: 0.98046875\n",
      "epoch81, loss: 1.1875\n",
      "epoch82, loss: 1.0\n",
      "epoch83, loss: 1.0390625\n",
      "epoch84, loss: 1.0859375\n",
      "epoch85, loss: 1.4765625\n",
      "epoch86, loss: 1.671875\n",
      "epoch87, loss: 1.1875\n",
      "epoch88, loss: 1.296875\n",
      "epoch89, loss: 1.7109375\n",
      "epoch90, loss: 1.734375\n",
      "epoch91, loss: 0.96875\n",
      "epoch92, loss: 1.0546875\n",
      "epoch93, loss: 1.484375\n",
      "epoch94, loss: 0.69140625\n",
      "epoch95, loss: 1.09375\n",
      "epoch96, loss: 1.4765625\n",
      "epoch97, loss: 1.2421875\n",
      "epoch98, loss: 1.53125\n",
      "epoch99, loss: 0.91015625\n",
      "epoch100, loss: 1.5859375\n",
      "epoch101, loss: 1.4375\n",
      "epoch102, loss: 1.21875\n",
      "epoch103, loss: 1.3984375\n",
      "epoch104, loss: 1.4296875\n",
      "epoch105, loss: 1.484375\n",
      "epoch106, loss: 0.9140625\n",
      "epoch107, loss: 1.1328125\n",
      "epoch108, loss: 1.5546875\n",
      "epoch109, loss: 1.7109375\n",
      "epoch110, loss: 1.09375\n",
      "epoch111, loss: 1.1484375\n",
      "epoch112, loss: 1.3125\n",
      "epoch113, loss: 1.09375\n",
      "epoch114, loss: 1.671875\n",
      "epoch115, loss: 0.9765625\n",
      "epoch116, loss: 1.4921875\n",
      "epoch117, loss: 1.4375\n",
      "epoch118, loss: 1.609375\n",
      "epoch119, loss: 1.25\n",
      "epoch120, loss: 1.5234375\n",
      "epoch121, loss: 1.140625\n",
      "epoch122, loss: 0.84375\n",
      "epoch123, loss: 1.5703125\n",
      "epoch124, loss: 1.640625\n",
      "epoch125, loss: 1.7734375\n",
      "epoch126, loss: 1.3515625\n",
      "epoch127, loss: 1.21875\n",
      "epoch128, loss: 1.4375\n",
      "epoch129, loss: 1.53125\n",
      "epoch130, loss: 1.3984375\n",
      "epoch131, loss: 1.59375\n",
      "epoch132, loss: 1.2265625\n",
      "epoch133, loss: 1.296875\n",
      "epoch134, loss: 1.0703125\n",
      "epoch135, loss: 1.2890625\n",
      "epoch136, loss: 0.8515625\n",
      "epoch137, loss: 1.3203125\n",
      "epoch138, loss: 1.3203125\n",
      "epoch139, loss: 1.2265625\n",
      "epoch140, loss: 1.4609375\n",
      "epoch141, loss: 1.1015625\n",
      "epoch142, loss: 1.34375\n",
      "epoch143, loss: 1.1875\n",
      "epoch144, loss: 1.265625\n",
      "epoch145, loss: 1.5078125\n",
      "epoch146, loss: 1.2890625\n",
      "epoch147, loss: 0.96875\n",
      "epoch148, loss: 0.9609375\n",
      "epoch149, loss: 1.7265625\n",
      "epoch150, loss: 1.46875\n",
      "epoch151, loss: 0.6796875\n",
      "epoch152, loss: 1.59375\n",
      "epoch153, loss: 1.6640625\n",
      "epoch154, loss: 1.265625\n",
      "epoch155, loss: 1.0078125\n",
      "epoch156, loss: 1.3359375\n",
      "epoch157, loss: 1.0234375\n",
      "epoch158, loss: 0.828125\n",
      "epoch159, loss: 0.796875\n",
      "epoch160, loss: 1.2421875\n",
      "epoch161, loss: 0.94921875\n",
      "epoch162, loss: 1.2734375\n",
      "epoch163, loss: 1.4296875\n",
      "epoch164, loss: 0.64453125\n",
      "epoch165, loss: 1.3828125\n",
      "epoch166, loss: 0.921875\n",
      "epoch167, loss: 1.7734375\n",
      "epoch168, loss: 1.203125\n",
      "epoch169, loss: 0.89453125\n",
      "epoch170, loss: 1.9296875\n",
      "epoch171, loss: 0.73828125\n",
      "epoch172, loss: 0.8828125\n",
      "epoch173, loss: 0.96484375\n",
      "epoch174, loss: 0.77734375\n",
      "epoch175, loss: 1.171875\n",
      "epoch176, loss: 1.484375\n",
      "epoch177, loss: 1.015625\n",
      "epoch178, loss: 1.0703125\n",
      "epoch179, loss: 1.703125\n",
      "epoch180, loss: 1.7421875\n",
      "epoch181, loss: 1.484375\n",
      "epoch182, loss: 1.25\n",
      "epoch183, loss: 1.5078125\n",
      "epoch184, loss: 1.4140625\n",
      "epoch185, loss: 1.0078125\n",
      "epoch186, loss: 1.4140625\n",
      "epoch187, loss: 0.91796875\n",
      "epoch188, loss: 1.4609375\n",
      "epoch189, loss: 1.2734375\n",
      "epoch190, loss: 1.546875\n",
      "epoch191, loss: 1.4140625\n",
      "epoch192, loss: 1.125\n",
      "epoch193, loss: 1.5625\n",
      "epoch194, loss: 1.46875\n",
      "epoch195, loss: 0.8984375\n",
      "epoch196, loss: 1.4765625\n",
      "epoch197, loss: 0.91796875\n",
      "epoch198, loss: 1.3984375\n",
      "epoch199, loss: 1.0546875\n",
      "epoch200, loss: 0.85546875\n",
      "epoch201, loss: 1.3828125\n",
      "epoch202, loss: 1.0234375\n",
      "epoch203, loss: 0.99609375\n",
      "epoch204, loss: 1.21875\n",
      "epoch205, loss: 0.859375\n",
      "epoch206, loss: 1.34375\n",
      "epoch207, loss: 1.109375\n",
      "epoch208, loss: 1.3203125\n",
      "epoch209, loss: 1.59375\n",
      "epoch210, loss: 1.5\n",
      "epoch211, loss: 1.75\n",
      "epoch212, loss: 1.078125\n",
      "epoch213, loss: 1.3203125\n",
      "epoch214, loss: 1.4296875\n",
      "epoch215, loss: 1.40625\n",
      "epoch216, loss: 1.40625\n",
      "epoch217, loss: 1.6640625\n",
      "epoch218, loss: 1.2421875\n",
      "epoch219, loss: 1.640625\n",
      "epoch220, loss: 1.34375\n",
      "epoch221, loss: 1.390625\n",
      "epoch222, loss: 0.74609375\n",
      "epoch223, loss: 0.94921875\n",
      "epoch224, loss: 1.3359375\n",
      "epoch225, loss: 1.1015625\n",
      "epoch226, loss: 0.7421875\n",
      "epoch227, loss: 1.34375\n",
      "epoch228, loss: 1.3359375\n",
      "epoch229, loss: 1.0390625\n",
      "epoch230, loss: 0.92578125\n",
      "epoch231, loss: 1.7265625\n",
      "epoch232, loss: 0.91015625\n",
      "epoch233, loss: 0.76171875\n",
      "epoch234, loss: 0.484375\n",
      "epoch235, loss: 1.1484375\n",
      "epoch236, loss: 1.46875\n",
      "epoch237, loss: 1.140625\n",
      "epoch238, loss: 1.5703125\n",
      "epoch239, loss: 0.90625\n",
      "epoch240, loss: 1.78125\n",
      "epoch241, loss: 1.4921875\n",
      "epoch242, loss: 1.171875\n",
      "epoch243, loss: 1.25\n",
      "epoch244, loss: 1.171875\n",
      "epoch245, loss: 0.494140625\n",
      "epoch246, loss: 0.88671875\n",
      "epoch247, loss: 1.09375\n",
      "epoch248, loss: 0.8359375\n",
      "epoch249, loss: 1.3125\n",
      "epoch250, loss: 0.90625\n",
      "epoch251, loss: 1.1875\n",
      "epoch252, loss: 1.140625\n",
      "epoch253, loss: 1.4140625\n",
      "epoch254, loss: 1.40625\n",
      "epoch255, loss: 1.6484375\n",
      "epoch256, loss: 1.1640625\n",
      "epoch257, loss: 0.98046875\n",
      "epoch258, loss: 1.4453125\n",
      "epoch259, loss: 1.515625\n",
      "epoch260, loss: 1.3984375\n",
      "epoch261, loss: 1.296875\n",
      "epoch262, loss: 1.7265625\n",
      "epoch263, loss: 1.2890625\n",
      "epoch264, loss: 1.3828125\n",
      "epoch265, loss: 0.80078125\n",
      "epoch266, loss: 0.82421875\n",
      "epoch267, loss: 1.0078125\n",
      "epoch268, loss: 1.1484375\n",
      "epoch269, loss: 0.87890625\n",
      "epoch270, loss: 1.359375\n",
      "epoch271, loss: 1.2421875\n",
      "epoch272, loss: 1.296875\n",
      "epoch273, loss: 1.3984375\n",
      "epoch274, loss: 1.203125\n",
      "epoch275, loss: 0.859375\n",
      "epoch276, loss: 1.1328125\n",
      "epoch277, loss: 1.1484375\n",
      "epoch278, loss: 1.09375\n",
      "epoch279, loss: 0.9921875\n",
      "epoch280, loss: 0.87109375\n",
      "epoch281, loss: 0.9140625\n",
      "epoch282, loss: 1.390625\n",
      "epoch283, loss: 1.5390625\n",
      "epoch284, loss: 0.984375\n",
      "epoch285, loss: 1.34375\n",
      "epoch286, loss: 1.0546875\n",
      "epoch287, loss: 1.3671875\n",
      "epoch288, loss: 1.0703125\n",
      "epoch289, loss: 1.640625\n",
      "epoch290, loss: 1.3671875\n",
      "epoch291, loss: 0.8515625\n",
      "epoch292, loss: 1.46875\n",
      "epoch293, loss: 1.1796875\n",
      "epoch294, loss: 1.640625\n",
      "epoch295, loss: 1.2265625\n",
      "epoch296, loss: 1.765625\n",
      "epoch297, loss: 1.3359375\n",
      "epoch298, loss: 1.59375\n",
      "epoch299, loss: 0.68359375\n",
      "epoch300, loss: 1.1953125\n",
      "epoch301, loss: 1.6953125\n",
      "epoch302, loss: 1.4921875\n",
      "epoch303, loss: 1.28125\n",
      "epoch304, loss: 1.265625\n",
      "epoch305, loss: 1.0625\n",
      "epoch306, loss: 1.5703125\n",
      "epoch307, loss: 0.65625\n"
     ]
    },
    {
     "ename": "KeyboardInterrupt",
     "evalue": "",
     "output_type": "error",
     "traceback": [
      "\u001b[0;31m---------------------------------------------------------------------------\u001b[0m",
      "\u001b[0;31mKeyboardInterrupt\u001b[0m                         Traceback (most recent call last)",
      "Cell \u001b[0;32mIn[203], line 4\u001b[0m\n\u001b[1;32m      2\u001b[0m LLamaModel\u001b[39m.\u001b[39mtrain()\n\u001b[1;32m      3\u001b[0m \u001b[39mfor\u001b[39;00m epoch \u001b[39min\u001b[39;00m \u001b[39mrange\u001b[39m(\u001b[39m1000\u001b[39m):\n\u001b[0;32m----> 4\u001b[0m     inputs, targets, IST_tokens \u001b[39m=\u001b[39m get_batch(\u001b[39m64\u001b[39;49m)\n\u001b[1;32m      6\u001b[0m     inputs \u001b[39m=\u001b[39m inputs\u001b[39m.\u001b[39mto(fabric\u001b[39m.\u001b[39mdevice)\n\u001b[1;32m      7\u001b[0m     targets \u001b[39m=\u001b[39m targets\u001b[39m.\u001b[39mto(fabric\u001b[39m.\u001b[39mdevice)\n",
      "Cell \u001b[0;32mIn[187], line 9\u001b[0m, in \u001b[0;36mget_batch\u001b[0;34m(batch_size)\u001b[0m\n\u001b[1;32m      7\u001b[0m \u001b[39mfor\u001b[39;00m index \u001b[39min\u001b[39;00m batch_indices:\n\u001b[1;32m      8\u001b[0m     llama_input \u001b[39m=\u001b[39m torch\u001b[39m.\u001b[39mcat([alpaca_json_tokens[index][\u001b[39m'\u001b[39m\u001b[39minstruction\u001b[39m\u001b[39m'\u001b[39m], alpaca_json_tokens[index][\u001b[39m'\u001b[39m\u001b[39minput\u001b[39m\u001b[39m'\u001b[39m]])\u001b[39m.\u001b[39munsqueeze(\u001b[39m0\u001b[39m)\n\u001b[0;32m----> 9\u001b[0m     IST_tokens\u001b[39m.\u001b[39mappend(IST_generator(LLamaModel(llama_input)[\u001b[39m1\u001b[39m])[:,\u001b[39m-\u001b[39m\u001b[39m1\u001b[39m,:])\n\u001b[1;32m     11\u001b[0m \u001b[39m# get shortest\u001b[39;00m\n\u001b[1;32m     12\u001b[0m shortest_output_len \u001b[39m=\u001b[39m \u001b[39m1000\u001b[39m\n",
      "File \u001b[0;32m~/.local/lib/python3.10/site-packages/torch/nn/modules/module.py:1501\u001b[0m, in \u001b[0;36mModule._call_impl\u001b[0;34m(self, *args, **kwargs)\u001b[0m\n\u001b[1;32m   1496\u001b[0m \u001b[39m# If we don't have any hooks, we want to skip the rest of the logic in\u001b[39;00m\n\u001b[1;32m   1497\u001b[0m \u001b[39m# this function, and just call forward.\u001b[39;00m\n\u001b[1;32m   1498\u001b[0m \u001b[39mif\u001b[39;00m \u001b[39mnot\u001b[39;00m (\u001b[39mself\u001b[39m\u001b[39m.\u001b[39m_backward_hooks \u001b[39mor\u001b[39;00m \u001b[39mself\u001b[39m\u001b[39m.\u001b[39m_backward_pre_hooks \u001b[39mor\u001b[39;00m \u001b[39mself\u001b[39m\u001b[39m.\u001b[39m_forward_hooks \u001b[39mor\u001b[39;00m \u001b[39mself\u001b[39m\u001b[39m.\u001b[39m_forward_pre_hooks\n\u001b[1;32m   1499\u001b[0m         \u001b[39mor\u001b[39;00m _global_backward_pre_hooks \u001b[39mor\u001b[39;00m _global_backward_hooks\n\u001b[1;32m   1500\u001b[0m         \u001b[39mor\u001b[39;00m _global_forward_hooks \u001b[39mor\u001b[39;00m _global_forward_pre_hooks):\n\u001b[0;32m-> 1501\u001b[0m     \u001b[39mreturn\u001b[39;00m forward_call(\u001b[39m*\u001b[39;49margs, \u001b[39m*\u001b[39;49m\u001b[39m*\u001b[39;49mkwargs)\n\u001b[1;32m   1502\u001b[0m \u001b[39m# Do not call functions when jit is used\u001b[39;00m\n\u001b[1;32m   1503\u001b[0m full_backward_hooks, non_full_backward_hooks \u001b[39m=\u001b[39m [], []\n",
      "File \u001b[0;32m~/Documents/lit-llama/lit_llama/model.py:87\u001b[0m, in \u001b[0;36mLLaMA.forward\u001b[0;34m(self, idx, internal_state_tokens)\u001b[0m\n\u001b[1;32m     84\u001b[0m     x \u001b[39m=\u001b[39m torch\u001b[39m.\u001b[39mcat((internal_state_tokens\u001b[39m.\u001b[39mreshape(batch_size,\u001b[39m1\u001b[39m,\u001b[39m-\u001b[39m\u001b[39m1\u001b[39m)\u001b[39m.\u001b[39mto(idx\u001b[39m.\u001b[39mdevice), x\u001b[39m.\u001b[39mto(idx\u001b[39m.\u001b[39mdevice) ), dim\u001b[39m=\u001b[39m\u001b[39m1\u001b[39m)\n\u001b[1;32m     86\u001b[0m \u001b[39mfor\u001b[39;00m block \u001b[39min\u001b[39;00m \u001b[39mself\u001b[39m\u001b[39m.\u001b[39mtransformer\u001b[39m.\u001b[39mh:\n\u001b[0;32m---> 87\u001b[0m     x \u001b[39m=\u001b[39m block(x)\n\u001b[1;32m     88\u001b[0m x \u001b[39m=\u001b[39m \u001b[39mself\u001b[39m\u001b[39m.\u001b[39mtransformer\u001b[39m.\u001b[39mln_f(x)\n\u001b[1;32m     90\u001b[0m logits \u001b[39m=\u001b[39m \u001b[39mself\u001b[39m\u001b[39m.\u001b[39mlm_head(x)  \u001b[39m# (b, t, vocab_size)\u001b[39;00m\n",
      "File \u001b[0;32m~/.local/lib/python3.10/site-packages/torch/nn/modules/module.py:1501\u001b[0m, in \u001b[0;36mModule._call_impl\u001b[0;34m(self, *args, **kwargs)\u001b[0m\n\u001b[1;32m   1496\u001b[0m \u001b[39m# If we don't have any hooks, we want to skip the rest of the logic in\u001b[39;00m\n\u001b[1;32m   1497\u001b[0m \u001b[39m# this function, and just call forward.\u001b[39;00m\n\u001b[1;32m   1498\u001b[0m \u001b[39mif\u001b[39;00m \u001b[39mnot\u001b[39;00m (\u001b[39mself\u001b[39m\u001b[39m.\u001b[39m_backward_hooks \u001b[39mor\u001b[39;00m \u001b[39mself\u001b[39m\u001b[39m.\u001b[39m_backward_pre_hooks \u001b[39mor\u001b[39;00m \u001b[39mself\u001b[39m\u001b[39m.\u001b[39m_forward_hooks \u001b[39mor\u001b[39;00m \u001b[39mself\u001b[39m\u001b[39m.\u001b[39m_forward_pre_hooks\n\u001b[1;32m   1499\u001b[0m         \u001b[39mor\u001b[39;00m _global_backward_pre_hooks \u001b[39mor\u001b[39;00m _global_backward_hooks\n\u001b[1;32m   1500\u001b[0m         \u001b[39mor\u001b[39;00m _global_forward_hooks \u001b[39mor\u001b[39;00m _global_forward_pre_hooks):\n\u001b[0;32m-> 1501\u001b[0m     \u001b[39mreturn\u001b[39;00m forward_call(\u001b[39m*\u001b[39;49margs, \u001b[39m*\u001b[39;49m\u001b[39m*\u001b[39;49mkwargs)\n\u001b[1;32m   1502\u001b[0m \u001b[39m# Do not call functions when jit is used\u001b[39;00m\n\u001b[1;32m   1503\u001b[0m full_backward_hooks, non_full_backward_hooks \u001b[39m=\u001b[39m [], []\n",
      "File \u001b[0;32m~/Documents/lit-llama/lit_llama/model.py:132\u001b[0m, in \u001b[0;36mBlock.forward\u001b[0;34m(self, x)\u001b[0m\n\u001b[1;32m    131\u001b[0m \u001b[39mdef\u001b[39;00m \u001b[39mforward\u001b[39m(\u001b[39mself\u001b[39m, x: torch\u001b[39m.\u001b[39mTensor) \u001b[39m-\u001b[39m\u001b[39m>\u001b[39m torch\u001b[39m.\u001b[39mTensor:\n\u001b[0;32m--> 132\u001b[0m     x \u001b[39m=\u001b[39m x \u001b[39m+\u001b[39m \u001b[39mself\u001b[39;49m\u001b[39m.\u001b[39;49mattn(\u001b[39mself\u001b[39;49m\u001b[39m.\u001b[39;49mrms_1(x))\n\u001b[1;32m    133\u001b[0m     x \u001b[39m=\u001b[39m x \u001b[39m+\u001b[39m \u001b[39mself\u001b[39m\u001b[39m.\u001b[39mmlp(\u001b[39mself\u001b[39m\u001b[39m.\u001b[39mrms_2(x))\n\u001b[1;32m    134\u001b[0m     \u001b[39mreturn\u001b[39;00m x\n",
      "File \u001b[0;32m~/.local/lib/python3.10/site-packages/torch/nn/modules/module.py:1501\u001b[0m, in \u001b[0;36mModule._call_impl\u001b[0;34m(self, *args, **kwargs)\u001b[0m\n\u001b[1;32m   1496\u001b[0m \u001b[39m# If we don't have any hooks, we want to skip the rest of the logic in\u001b[39;00m\n\u001b[1;32m   1497\u001b[0m \u001b[39m# this function, and just call forward.\u001b[39;00m\n\u001b[1;32m   1498\u001b[0m \u001b[39mif\u001b[39;00m \u001b[39mnot\u001b[39;00m (\u001b[39mself\u001b[39m\u001b[39m.\u001b[39m_backward_hooks \u001b[39mor\u001b[39;00m \u001b[39mself\u001b[39m\u001b[39m.\u001b[39m_backward_pre_hooks \u001b[39mor\u001b[39;00m \u001b[39mself\u001b[39m\u001b[39m.\u001b[39m_forward_hooks \u001b[39mor\u001b[39;00m \u001b[39mself\u001b[39m\u001b[39m.\u001b[39m_forward_pre_hooks\n\u001b[1;32m   1499\u001b[0m         \u001b[39mor\u001b[39;00m _global_backward_pre_hooks \u001b[39mor\u001b[39;00m _global_backward_hooks\n\u001b[1;32m   1500\u001b[0m         \u001b[39mor\u001b[39;00m _global_forward_hooks \u001b[39mor\u001b[39;00m _global_forward_pre_hooks):\n\u001b[0;32m-> 1501\u001b[0m     \u001b[39mreturn\u001b[39;00m forward_call(\u001b[39m*\u001b[39;49margs, \u001b[39m*\u001b[39;49m\u001b[39m*\u001b[39;49mkwargs)\n\u001b[1;32m   1502\u001b[0m \u001b[39m# Do not call functions when jit is used\u001b[39;00m\n\u001b[1;32m   1503\u001b[0m full_backward_hooks, non_full_backward_hooks \u001b[39m=\u001b[39m [], []\n",
      "File \u001b[0;32m~/Documents/lit-llama/lit_llama/model.py:193\u001b[0m, in \u001b[0;36mCausalSelfAttention.forward\u001b[0;34m(self, x)\u001b[0m\n\u001b[1;32m    185\u001b[0m     \u001b[39mself\u001b[39m\u001b[39m.\u001b[39mrope_cache \u001b[39m=\u001b[39m build_rope_cache(\n\u001b[1;32m    186\u001b[0m         seq_len\u001b[39m=\u001b[39m\u001b[39mself\u001b[39m\u001b[39m.\u001b[39mblock_size,\n\u001b[1;32m    187\u001b[0m         n_elem\u001b[39m=\u001b[39m\u001b[39mself\u001b[39m\u001b[39m.\u001b[39mn_embd \u001b[39m/\u001b[39m\u001b[39m/\u001b[39m \u001b[39mself\u001b[39m\u001b[39m.\u001b[39mn_head, \n\u001b[1;32m    188\u001b[0m         dtype\u001b[39m=\u001b[39mx\u001b[39m.\u001b[39mdtype,\n\u001b[1;32m    189\u001b[0m         device\u001b[39m=\u001b[39mx\u001b[39m.\u001b[39mdevice,\n\u001b[1;32m    190\u001b[0m     )\n\u001b[1;32m    192\u001b[0m q \u001b[39m=\u001b[39m apply_rope(q, \u001b[39mself\u001b[39m\u001b[39m.\u001b[39mrope_cache)\n\u001b[0;32m--> 193\u001b[0m k \u001b[39m=\u001b[39m apply_rope(k, \u001b[39mself\u001b[39;49m\u001b[39m.\u001b[39;49mrope_cache)\n\u001b[1;32m    195\u001b[0m \u001b[39m# causal self-attention; Self-attend: (B, nh, T, hs) x (B, nh, hs, T) -> (B, nh, T, T)\u001b[39;00m\n\u001b[1;32m    196\u001b[0m \u001b[39m#  att = (q @ k.transpose(-2, -1)) * (1.0 / math.sqrt(k.size(-1)))\u001b[39;00m\n\u001b[1;32m    197\u001b[0m \u001b[39m#  att = att.masked_fill(self.bias[:,:,:T,:T] == 0, float('-inf'))\u001b[39;00m\n\u001b[0;32m   (...)\u001b[0m\n\u001b[1;32m    200\u001b[0m \n\u001b[1;32m    201\u001b[0m \u001b[39m# efficient attention using Flash Attention CUDA kernels\u001b[39;00m\n\u001b[1;32m    202\u001b[0m y \u001b[39m=\u001b[39m F\u001b[39m.\u001b[39mscaled_dot_product_attention(q, k, v, attn_mask\u001b[39m=\u001b[39m\u001b[39mNone\u001b[39;00m, dropout_p\u001b[39m=\u001b[39m\u001b[39m0.0\u001b[39m, is_causal\u001b[39m=\u001b[39m\u001b[39mTrue\u001b[39;00m)\n",
      "File \u001b[0;32m~/Documents/lit-llama/lit_llama/model.py:284\u001b[0m, in \u001b[0;36mapply_rope\u001b[0;34m(x, rope_cache)\u001b[0m\n\u001b[1;32m    281\u001b[0m rope_cache \u001b[39m=\u001b[39m rope_cache[:T]\n\u001b[1;32m    283\u001b[0m \u001b[39m# cast because the reference does\u001b[39;00m\n\u001b[0;32m--> 284\u001b[0m xshaped \u001b[39m=\u001b[39m x\u001b[39m.\u001b[39;49mfloat()\u001b[39m.\u001b[39;49mreshape(\u001b[39m*\u001b[39;49mx\u001b[39m.\u001b[39;49mshape[:\u001b[39m-\u001b[39;49m\u001b[39m1\u001b[39;49m], \u001b[39m-\u001b[39;49m\u001b[39m1\u001b[39;49m, \u001b[39m2\u001b[39;49m)\n\u001b[1;32m    285\u001b[0m rope_cache \u001b[39m=\u001b[39m rope_cache\u001b[39m.\u001b[39mview(\u001b[39m1\u001b[39m, xshaped\u001b[39m.\u001b[39msize(\u001b[39m1\u001b[39m), \u001b[39m1\u001b[39m, xshaped\u001b[39m.\u001b[39msize(\u001b[39m3\u001b[39m), \u001b[39m2\u001b[39m)\n\u001b[1;32m    286\u001b[0m x_out2 \u001b[39m=\u001b[39m torch\u001b[39m.\u001b[39mstack(\n\u001b[1;32m    287\u001b[0m     [xshaped[\u001b[39m.\u001b[39m\u001b[39m.\u001b[39m\u001b[39m.\u001b[39m, \u001b[39m0\u001b[39m] \u001b[39m*\u001b[39m rope_cache[\u001b[39m.\u001b[39m\u001b[39m.\u001b[39m\u001b[39m.\u001b[39m, \u001b[39m0\u001b[39m] \u001b[39m-\u001b[39m xshaped[\u001b[39m.\u001b[39m\u001b[39m.\u001b[39m\u001b[39m.\u001b[39m, \u001b[39m1\u001b[39m] \u001b[39m*\u001b[39m rope_cache[\u001b[39m.\u001b[39m\u001b[39m.\u001b[39m\u001b[39m.\u001b[39m, \u001b[39m1\u001b[39m],\n\u001b[1;32m    288\u001b[0m      xshaped[\u001b[39m.\u001b[39m\u001b[39m.\u001b[39m\u001b[39m.\u001b[39m, \u001b[39m1\u001b[39m] \u001b[39m*\u001b[39m rope_cache[\u001b[39m.\u001b[39m\u001b[39m.\u001b[39m\u001b[39m.\u001b[39m, \u001b[39m0\u001b[39m] \u001b[39m+\u001b[39m xshaped[\u001b[39m.\u001b[39m\u001b[39m.\u001b[39m\u001b[39m.\u001b[39m, \u001b[39m0\u001b[39m] \u001b[39m*\u001b[39m rope_cache[\u001b[39m.\u001b[39m\u001b[39m.\u001b[39m\u001b[39m.\u001b[39m, \u001b[39m1\u001b[39m],\n\u001b[1;32m    289\u001b[0m     ], \u001b[39m-\u001b[39m\u001b[39m1\u001b[39m)\n",
      "\u001b[0;31mKeyboardInterrupt\u001b[0m: "
     ]
    }
   ],
   "source": [
    "# Training loop\n",
    "LLamaModel.train()\n",
    "for epoch in range(1000):\n",
    "    inputs, targets, IST_tokens = get_batch(64)\n",
    "    \n",
    "    inputs = inputs.to(fabric.device)\n",
    "    targets = targets.to(fabric.device)\n",
    "    IST_tokens = IST_tokens.to(fabric.device)\n",
    "    #print(tokenizer.decode(inputs))\n",
    "    #print(tokenizer.decode(targets))\n",
    "    predicted_logits = LLamaModel(inputs, IST_tokens.type(torch.bfloat16))[0]\n",
    "    #print('decoded: ', tokenizer.decode(torch.argmax(predicted_logits, dim=2)))\n",
    "    loss = loss_fn(predicted_logits.permute(0,2,1).to(fabric.device), targets.type(torch.LongTensor).to(fabric.device))\n",
    "\n",
    "    optimizer.zero_grad()\n",
    "    loss.backward()\n",
    "    print(f'epoch{epoch}, loss: {loss.item()}')\n",
    "    losses.append(loss.item())\n",
    "    optimizer.step()"
   ]
  },
  {
   "cell_type": "code",
   "execution_count": 204,
   "metadata": {},
   "outputs": [
    {
     "data": {
      "text/plain": [
       "Text(0, 0.5, 'loss')"
      ]
     },
     "execution_count": 204,
     "metadata": {},
     "output_type": "execute_result"
    },
    {
     "data": {
      "image/png": "[encoded data removed]",
      "text/plain": [
       "<Figure size 640x480 with 1 Axes>"
      ]
     },
     "metadata": {},
     "output_type": "display_data"
    }
   ],
   "source": [
    "plt.plot(losses)\n",
    "plt.xlabel('batch')\n",
    "plt.ylabel('loss')"
   ]
  },
  {
   "cell_type": "code",
   "execution_count": 12,
   "metadata": {},
   "outputs": [],
   "source": [
    "def get_IST(string):\n",
    "    tokens = tokenizer.encode(string).unsqueeze(0).type(torch.LongTensor).to(fabric.device)\n",
    "    x = LLamaModel(tokens)[1]\n",
    "    x = IST_generator(x)\n",
    "    return x[:,-1,:]"
   ]
  },
  {
   "cell_type": "code",
   "execution_count": 150,
   "metadata": {},
   "outputs": [],
   "source": [
    "def generate(model, tokenizer, prompt, IST=None, max_new_tokens=200):\n",
    "  \n",
    "    \n",
    "    generated = ''\n",
    "    tokenized_input = tokenizer.encode(prompt).to(fabric.device)\n",
    "    with torch.no_grad():\n",
    "\n",
    "        for _ in range(max_new_tokens):\n",
    "            last_logits = model(tokenized_input.unsqueeze(0), IST.type(torch.bfloat16))[0][:,-1,:]\n",
    "            new_token = torch.argmax(last_logits, dim=1)\n",
    "            generated += tokenizer.decode(new_token)\n",
    "            tokenized_input = torch.cat([tokenized_input, new_token])\n",
    "    \n",
    "    print(tokenizer.decode(tokenized_input))\n",
    "    return tokenized_input"
   ]
  },
  {
   "cell_type": "code",
   "execution_count": 208,
   "metadata": {},
   "outputs": [
    {
     "name": "stdout",
     "output_type": "stream",
     "text": [
      "The average temperature in the United States is 57 degrees Fahrenheit.\n",
      "The average temperature in the United States is 57 degrees Fahrenheit. The average temperature in the United States is 57 degrees Fahrenheit. The average temperature in the United States is 57 degrees Fahrenheit. The average temperature in the United States is 57 degrees Fahrenheit. The average temperature in the United States is 57 degrees Fahrenheit. The average temperature in the United States is 57 degrees Fahrenheit. The average temperature in the United States is 57 degrees Fahrenheit. The average temperature in the United States is 57 degrees Fahrenheit. The average temperature in the United States is 57 degrees Fahrenheit. The average temperature in the United States is 57 degrees Fahrenheit. The average temperature in the United States is 57 degrees Fahrenheit. The average temperature in the United States\n"
     ]
    }
   ],
   "source": [
    "generated = generate(LLamaModel, tokenizer, prompt='', IST=get_IST('What is the average temperature in China?'))"
   ]
  },
  {
   "cell_type": "code",
   "execution_count": null,
   "metadata": {},
   "outputs": [],
   "source": []
  },
  {
   "cell_type": "code",
   "execution_count": 205,
   "metadata": {},
   "outputs": [],
   "source": [
    "torch.save(IST_generator.state_dict(), 'weights.pt')"
   ]
  }
 ],
 "metadata": {
  "kernelspec": {
   "display_name": "Python 3 (ipykernel)",
   "language": "python",
   "name": "python3"
  },
  "language_info": {
   "codemirror_mode": {
    "name": "ipython",
    "version": 3
   },
   "file_extension": ".py",
   "mimetype": "text/x-python",
   "name": "python",
   "nbconvert_exporter": "python",
   "pygments_lexer": "ipython3",
   "version": "3.10.6"
  }
 },
 "nbformat": 4,
 "nbformat_minor": 4
}
